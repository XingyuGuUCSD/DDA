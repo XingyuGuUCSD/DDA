{
 "cells": [
  {
   "cell_type": "markdown",
   "metadata": {
    "colab_type": "text",
    "id": "RTya_dtvpdaX"
   },
   "source": [
    "# Preparations"
   ]
  },
  {
   "cell_type": "code",
   "execution_count": 1,
   "metadata": {
    "colab": {
     "autoexec": {
      "startup": false,
      "wait_interval": 0
     }
    },
    "colab_type": "code",
    "id": "e9W0cTFEPmAl"
   },
   "outputs": [],
   "source": [
    "import torch\n",
    "import torchvision\n",
    "import os.path\n",
    "\n",
    "import numpy as np\n",
    "import torch.nn as nn\n",
    "import torch.nn.functional as F\n",
    "import torch.optim as optim\n",
    "import torchvision.transforms as transforms\n",
    "import matplotlib.pyplot as plt\n",
    "\n",
    "from sklearn import manifold\n",
    "from math import exp\n",
    "from torch.autograd import Variable\n",
    "from my_dataset import MNIST_M\n",
    "from my_dataset import ST_Dataset\n",
    "\n",
    "%matplotlib inline\n",
    "%load_ext skip_kernel_extension"
   ]
  },
  {
   "cell_type": "code",
   "execution_count": 2,
   "metadata": {},
   "outputs": [],
   "source": [
    "# this function takes the numpy input image with dim 3 x height x width\n",
    "def convert_to_plt(input_image):\n",
    "    input_image = input_image*np.asarray([0.5,0.5,0.5]) + np.asarray([0.5,0.5,0.5])\n",
    "    return input_image"
   ]
  },
  {
   "cell_type": "code",
   "execution_count": 3,
   "metadata": {
    "colab": {
     "autoexec": {
      "startup": false,
      "wait_interval": 0
     },
     "base_uri": "https://localhost:8080/",
     "height": 35
    },
    "colab_type": "code",
    "executionInfo": {
     "elapsed": 363,
     "status": "ok",
     "timestamp": 1523506225267,
     "user": {
      "displayName": "Yuan Qi",
      "photoUrl": "//lh6.googleusercontent.com/--bd6SE8_hDo/AAAAAAAAAAI/AAAAAAAAAE0/J27oawL5omk/s50-c-k-no/photo.jpg",
      "userId": "112219197582513023329"
     },
     "user_tz": 420
    },
    "id": "4BrzNF_oQL77",
    "outputId": "fe8e2212-37c8-4027-d176-ef46991bcd01"
   },
   "outputs": [
    {
     "name": "stdout",
     "output_type": "stream",
     "text": [
      "use_gpu = True\n"
     ]
    }
   ],
   "source": [
    "use_gpu = torch.cuda.is_available()\n",
    "print(\"use_gpu = \" + str(use_gpu))"
   ]
  },
  {
   "cell_type": "code",
   "execution_count": 4,
   "metadata": {
    "colab": {
     "autoexec": {
      "startup": false,
      "wait_interval": 0
     }
    },
    "colab_type": "code",
    "id": "3W2qqi9azoVs"
   },
   "outputs": [],
   "source": [
    "import torchvision\n",
    "import torchvision.transforms as transforms"
   ]
  },
  {
   "cell_type": "code",
   "execution_count": 5,
   "metadata": {},
   "outputs": [],
   "source": [
    "def evaluate_accuracy(model, dataloader):\n",
    "    model.eval()\n",
    "    correct = 0\n",
    "    total = 0\n",
    "    for i, data in enumerate(dataloader):\n",
    "        inputs, labels = data\n",
    "        if (use_gpu):\n",
    "            inputs, labels = inputs.cuda(), labels.cuda()\n",
    "        with torch.no_grad():\n",
    "            #inputs, labels = Variable(inputs, volatile=True), Variable(labels, volatile=True)\n",
    "            inputs, labels = Variable(inputs), Variable(labels)\n",
    "            outputs, _, _ = model(inputs)\n",
    "            correct += (torch.max(outputs.data, 1)[1] == labels.data).sum().item()\n",
    "            total += labels.size()[0]\n",
    "    acc = correct * 1.0 / total\n",
    "    return acc"
   ]
  },
  {
   "cell_type": "markdown",
   "metadata": {
    "colab_type": "text",
    "id": "5oBeLwnRLrcY"
   },
   "source": [
    "## Load MNIST"
   ]
  },
  {
   "cell_type": "code",
   "execution_count": 6,
   "metadata": {},
   "outputs": [],
   "source": [
    "batch_size = 128\n",
    "root_dir = \"./data/mnist/\"\n",
    "\n",
    "transform = transforms.Compose([\n",
    "    transforms.ToTensor(),\n",
    "    transforms.Normalize((0.5, ), (0.5, )),\n",
    "    #transforms.Normalize((0.13066047712053577, ), (1, )),\n",
    "    transforms.Lambda(lambda x: torch.cat((x, x, x), dim=0))\n",
    "])\n",
    "\n",
    "trainset = torchvision.datasets.MNIST(root_dir, train=True, transform=transform,\n",
    "                                      target_transform=None, download=True)\n",
    "trainloader = torch.utils.data.DataLoader(trainset, batch_size=batch_size,\n",
    "                                          shuffle=False, num_workers=0)\n",
    "testset = torchvision.datasets.MNIST(root_dir, train=False, transform=transform,\n",
    "                                      target_transform=None, download=True)\n",
    "testloader = torch.utils.data.DataLoader(testset, batch_size=batch_size,\n",
    "                                          shuffle=False, num_workers=0)"
   ]
  },
  {
   "cell_type": "code",
   "execution_count": 7,
   "metadata": {},
   "outputs": [
    {
     "name": "stdout",
     "output_type": "stream",
     "text": [
      "The 40th image in the first 128 images in the training set:\n"
     ]
    },
    {
     "data": {
      "image/png": "[encoded data removed]",
      "text/plain": [
       "<Figure size 72x72 with 1 Axes>"
      ]
     },
     "metadata": {},
     "output_type": "display_data"
    },
    {
     "name": "stdout",
     "output_type": "stream",
     "text": [
      "Its correspondent label:\n",
      "tensor(1)\n"
     ]
    }
   ],
   "source": [
    "# randomly plot a sample from training set\n",
    "import matplotlib.pyplot as plt\n",
    "\n",
    "inputs = None\n",
    "labels = None\n",
    "for i, data in enumerate(trainloader):\n",
    "    inputs, labels = data\n",
    "    break\n",
    "\n",
    "idx = np.random.randint(0, batch_size)\n",
    "print(\"The \" + str(idx) + \"th image in the first \" + str(batch_size) +\\\n",
    "      \" images in the training set:\")\n",
    "\n",
    "plt_img = convert_to_plt(inputs[idx].permute(1, 2, 0).cpu().data.numpy())\n",
    "plt.figure(figsize=(1,1))\n",
    "plt.axis(\"off\")\n",
    "plt.imshow(plt_img)\n",
    "plt.show()\n",
    "print(\"Its correspondent label:\\n\" + str(labels[idx]))"
   ]
  },
  {
   "cell_type": "markdown",
   "metadata": {},
   "source": [
    "# MNIST-M Dataset"
   ]
  },
  {
   "cell_type": "code",
   "execution_count": 8,
   "metadata": {},
   "outputs": [],
   "source": [
    "from my_dataset import MNIST_M"
   ]
  },
  {
   "cell_type": "code",
   "execution_count": 9,
   "metadata": {},
   "outputs": [],
   "source": [
    "batch_size = 128\n",
    "root_dir = \"./data/\"\n",
    "\n",
    "transform_m = transforms.Compose([\n",
    "    transforms.Resize((28, 28)),\n",
    "    transforms.ToTensor(),\n",
    "    #transforms.Normalize((0.4581609321206303, 0.462350402961343, 0.4084781187671726), (1, 1, 1))\n",
    "    transforms.Normalize((0.5, 0.5, 0.5), (0.5, 0.5, 0.5))\n",
    "])\n",
    "\n",
    "trainset_m = MNIST_M(root_dir, train=True, transform=transform_m, download=True)\n",
    "trainloader_m = torch.utils.data.DataLoader(trainset_m, batch_size=batch_size,\n",
    "                                          shuffle=False, num_workers=0)\n",
    "testset_m = MNIST_M(root_dir, train=False, transform=transform_m, download=True)\n",
    "testloader_m = torch.utils.data.DataLoader(testset_m, batch_size=batch_size,\n",
    "                                          shuffle=False, num_workers=0)"
   ]
  },
  {
   "cell_type": "code",
   "execution_count": 10,
   "metadata": {
    "scrolled": false
   },
   "outputs": [
    {
     "name": "stdout",
     "output_type": "stream",
     "text": [
      "The 123th image in the first 128 images in the training set:\n"
     ]
    },
    {
     "data": {
      "image/png": "[encoded data removed]",
      "text/plain": [
       "<Figure size 72x72 with 1 Axes>"
      ]
     },
     "metadata": {},
     "output_type": "display_data"
    },
    {
     "name": "stdout",
     "output_type": "stream",
     "text": [
      "Its correspondent label:\n",
      "tensor(1)\n"
     ]
    }
   ],
   "source": [
    "# randomly plot a sample from training set\n",
    "\n",
    "inputs = None\n",
    "labels = None\n",
    "for i, data in enumerate(trainloader_m):\n",
    "    inputs, labels = data\n",
    "    break\n",
    "    \n",
    "idx = np.random.randint(0, batch_size)\n",
    "print(\"The \" + str(idx) + \"th image in the first \" + str(batch_size) +\\\n",
    "      \" images in the training set:\")\n",
    "\n",
    "plt_img = convert_to_plt(inputs[idx].permute(1, 2, 0).cpu().data.numpy())\n",
    "plt.figure(figsize=(1,1))\n",
    "plt.axis(\"off\")\n",
    "plt.imshow(plt_img)\n",
    "plt.show()\n",
    "print(\"Its correspondent label:\\n\" + str(labels[idx]))"
   ]
  },
  {
   "cell_type": "markdown",
   "metadata": {},
   "source": [
    "## Visualization"
   ]
  },
  {
   "cell_type": "code",
   "execution_count": 11,
   "metadata": {},
   "outputs": [],
   "source": [
    "from sklearn import manifold\n",
    "\n",
    "def extract_features(model, dataloader):\n",
    "    features = None\n",
    "    lasthidden = None\n",
    "    labels = None\n",
    "    for i, data in enumerate(dataloader):\n",
    "        inputs, labels_ = data\n",
    "        if (use_gpu):\n",
    "            inputs = inputs.cuda()\n",
    "        inputs = Variable(inputs)\n",
    "        _, f, l = model(inputs)\n",
    "        if i == 0:\n",
    "            features = f\n",
    "            lasthidden = l\n",
    "            labels = labels_\n",
    "        else:\n",
    "            features = torch.cat((features, f))\n",
    "            lasthidden = torch.cat((lasthidden, l))\n",
    "            labels = torch.cat((labels, labels_))\n",
    "    features = features.data\n",
    "    lasthidden = lasthidden.data\n",
    "    if use_gpu:\n",
    "        features = features.cpu()\n",
    "        lasthidden = lasthidden.cpu()\n",
    "    return features, lasthidden, labels\n",
    "\n",
    "def visualize_single_dataset(data, labels, perplexity=50, sample_num=None):\n",
    "    total_num = labels.shape[0]\n",
    "    if sample_num:\n",
    "        idx = np.random.choice(total_num, sample_num, replace=False)\n",
    "        data, labels = data[idx, :], labels[idx]\n",
    "        total_num = sample_num\n",
    "    tsne = manifold.TSNE(n_components=2, init='random',\n",
    "                     random_state=0, perplexity=perplexity)\n",
    "    X = tsne.fit_transform(data)\n",
    "    colors = [\"red\", \"orange\", \"goldenrod\", \"yellow\", \"yellowgreen\", \"green\", \"teal\", \"blue\", \"violet\", \"purple\"]\n",
    "    for i in range(10):\n",
    "        plt.scatter(X[labels == i, 0], X[labels == i, 1], c=colors[i], alpha=0.4)\n",
    "    plt.axis(\"off\")\n",
    "    \n",
    "def visualize_da(source, target, perplexity=50, sample_num=None, save=None):\n",
    "    source_num = source.shape[0]\n",
    "    target_num = target.shape[0]\n",
    "    if sample_num:\n",
    "        source, target = source[:sample_num, :], target[:sample_num, :]\n",
    "        \n",
    "    data = np.vstack((source, target))\n",
    "\n",
    "    tsne = manifold.TSNE(n_components=2, init='random',\n",
    "                         random_state=0, perplexity=perplexity)\n",
    "    X = tsne.fit_transform(data)\n",
    "    plt.scatter(X[:sample_num, 0], X[:sample_num, 1], c=\"blue\", edgecolors=None, alpha=0.4)\n",
    "    plt.scatter(X[sample_num:, 0], X[sample_num:, 1], c=\"red\", edgecolors=None, alpha=0.4)\n",
    "    plt.axis(\"off\")\n",
    "    if save:\n",
    "        plt.savefig(save)\n",
    "    plt.show()\n",
    "    plt.clf()\n",
    "    plt.close()"
   ]
  },
  {
   "cell_type": "code",
   "execution_count": 12,
   "metadata": {},
   "outputs": [],
   "source": [
    "from my_dataset import ST_Dataset"
   ]
  },
  {
   "cell_type": "code",
   "execution_count": 13,
   "metadata": {},
   "outputs": [],
   "source": [
    "batch_size = 128\n",
    "\n",
    "trainset_da = ST_Dataset(trainset, trainset_m, batch_size)\n",
    "trainloader_da = torch.utils.data.DataLoader(trainset_da, batch_size=batch_size,\n",
    "                                          shuffle=False, num_workers=0)"
   ]
  },
  {
   "cell_type": "code",
   "execution_count": 14,
   "metadata": {},
   "outputs": [
    {
     "name": "stdout",
     "output_type": "stream",
     "text": [
      "The 13th image in the first 128 images in the training set:\n"
     ]
    },
    {
     "data": {
      "image/png": "[encoded data removed]",
      "text/plain": [
       "<Figure size 72x72 with 1 Axes>"
      ]
     },
     "metadata": {},
     "output_type": "display_data"
    },
    {
     "name": "stdout",
     "output_type": "stream",
     "text": [
      "Its correspondent label:\n",
      "7\n",
      "\n",
      "From domain:\n",
      "Source\n"
     ]
    }
   ],
   "source": [
    "# randomly plot a sample from test set\n",
    "\n",
    "inputs = None\n",
    "labels = None\n",
    "for i, data in enumerate(trainloader_da):\n",
    "    inputs, labels, domain = data\n",
    "    if i == 2:\n",
    "        break\n",
    "\n",
    "idx = np.random.randint(0, batch_size)\n",
    "print(\"The \" + str(idx) + \"th image in the first \" + str(batch_size) +\\\n",
    "      \" images in the training set:\")\n",
    "plt_img = convert_to_plt(inputs[idx].permute(1, 2, 0).cpu().data.numpy())\n",
    "plt.figure(figsize=(1,1))\n",
    "plt.axis(\"off\")\n",
    "plt.imshow(plt_img)\n",
    "plt.show()\n",
    "print(\"Its correspondent label:\")\n",
    "if labels[idx].item() == -1:\n",
    "    print(\"I don't know :)\\n\")\n",
    "else:\n",
    "    print(str(labels[idx].item()) + \"\\n\")\n",
    "\n",
    "print(\"From domain:\")\n",
    "if domain[idx].item() == 0:\n",
    "    print(\"Source\")\n",
    "else:\n",
    "    print(\"Target\")"
   ]
  },
  {
   "cell_type": "markdown",
   "metadata": {},
   "source": [
    "# WGAN Algorithm\n",
    "## Definition\n",
    "Define label classifier $L$ has parameter $\\theta_{lc}$, domain classifier $D$ has parameter $\\theta_{dc}$ and feature extractor $F$ has parameter $\\theta_{fe}$  \n",
    "$x_s$ is the data from source domain, while $x_t$ is the data from target domain  \n",
    "$y_s$ is the label for source data  \n",
    "\n",
    "## Loss\n",
    "Loss function $L= D(F(x_t))-D(F(x_s))+L(F(x_s),y_s)$  \n",
    "$D(F(x_t))$ will output 1 if it thinks input is from target, else output 0  \n",
    "\n",
    "## Update  \n",
    "$\\theta_{lc}$ minimize $L(F(x_s),y_s)$  \n",
    "$\\theta_{dc}$ minimize $-D(F(x_t))+D(F(x_s))$  \n",
    "$\\theta_{fe}$ minimize $D(F(x_t))-D(F(x_s))+L(F(x_s),y_s)$  "
   ]
  },
  {
   "cell_type": "code",
   "execution_count": 26,
   "metadata": {},
   "outputs": [],
   "source": [
    "class CNN(nn.Module):\n",
    "    \n",
    "    def __init__(self):\n",
    "        super(CNN, self).__init__()\n",
    "        # feature extractor\n",
    "        self.C1 = nn.Conv2d(3, 32, 5)\n",
    "        self.C2 = nn.Conv2d(32, 48, 5)\n",
    "\n",
    "        self.C1.weight.data.normal_(0.0, 0.1)\n",
    "        self.C2.weight.data.normal_(0.0, 0.1)    \n",
    "        \n",
    "        # label classifier\n",
    "        self.LC_FC1 = nn.Linear(48 * 8 * 8, 100)\n",
    "        self.LC_FC2 = nn.Linear(100, 100)\n",
    "        self.LC_FC3 = nn.Linear(100, 10)\n",
    "        \n",
    "        self.LC_FC1.weight.data.normal_(0.0, 0.1)\n",
    "        self.LC_FC2.weight.data.normal_(0.0, 0.1)\n",
    "        self.LC_FC3.weight.data.normal_(0.0, 0.1)\n",
    "        \n",
    "        self.LC_FC1.bias.data.normal_(0.0, 0.1)\n",
    "        self.LC_FC2.bias.data.normal_(0.0, 0.1)\n",
    "        self.LC_FC3.bias.data.normal_(0.0, 0.1)\n",
    "        \n",
    "        # domain classifier\n",
    "        self.DC_FC1 = nn.Linear(48 * 8 * 8, 100)\n",
    "        self.DC_FC2 = nn.Linear(100, 100)\n",
    "        self.DC_FC3 = nn.Linear(100, 10)\n",
    "        self.DC_FC4 = nn.Linear(10, 1)\n",
    "        \n",
    "        self.DC_FC1.weight.data.normal_(0.0, 0.1)\n",
    "        self.DC_FC2.weight.data.normal_(0.0, 0.1)\n",
    "        self.DC_FC3.weight.data.normal_(0.0, 0.1)\n",
    "        self.DC_FC4.weight.data.normal_(0.0, 0.1)\n",
    "        \n",
    "        self.DC_FC1.bias.data.normal_(0.0, 0.1)\n",
    "        self.DC_FC2.bias.data.normal_(0.0, 0.1)\n",
    "        self.DC_FC3.bias.data.normal_(0.0, 0.1)\n",
    "        self.DC_FC4.bias.data.normal_(0.0, 0.1)        \n",
    "        \n",
    "    def forward(self, x):\n",
    "        # C1\n",
    "        x = F.relu(self.C1(x))\n",
    "        # M1\n",
    "        x = F.max_pool2d(x, (2, 2))\n",
    "        # C2\n",
    "        x = F.relu(self.C2(x))\n",
    "        \n",
    "        x = x.view(-1 , 48 * 8 * 8)\n",
    "        \n",
    "        f = x\n",
    "        # label classifier\n",
    "        # LC_FC1\n",
    "        x_l = F.relu(self.LC_FC1(f))\n",
    "        # LC_FC2\n",
    "        x_l = F.relu(self.LC_FC2(x_l))\n",
    "        # LC_FC3\n",
    "        x_l = self.LC_FC3(x_l)\n",
    "\n",
    "        \n",
    "        # discriminator classifier\n",
    "        # DC_FC1\n",
    "        x_d = F.relu(self.DC_FC1(f))\n",
    "        # DC_FC2\n",
    "        x_d = F.relu(self.DC_FC2(x_d))\n",
    "        # DC_FC3\n",
    "        x_d = F.relu(self.DC_FC3(x_d))\n",
    "        # DC_FC4\n",
    "        x_d = self.DC_FC4(x_d)\n",
    "        \n",
    "        \n",
    "        eps = 1e-5\n",
    "        x_d = torch.clamp(x_d, min=0, max=1)\n",
    "        \n",
    "        return x_l, x_d\n",
    "    \n"
   ]
  },
  {
   "cell_type": "code",
   "execution_count": 27,
   "metadata": {},
   "outputs": [],
   "source": [
    "def extract_features_da(model, dataloader):\n",
    "    features = None\n",
    "    lasthidden = None\n",
    "    labels = None\n",
    "    for i, data in enumerate(dataloader):\n",
    "        inputs, labels_ = data\n",
    "        if (use_gpu):\n",
    "            inputs = inputs.cuda()\n",
    "        inputs = Variable(inputs)\n",
    "        _, _, f, l = model(inputs)\n",
    "        \n",
    "        # from source\n",
    "        if i == 0:\n",
    "            features = f\n",
    "            lasthidden = l\n",
    "            labels = labels_\n",
    "        # from target\n",
    "        else:\n",
    "            features = torch.cat((features, f))\n",
    "            lasthidden = torch.cat((lasthidden, l))\n",
    "            labels = torch.cat((labels, labels_))\n",
    "    features = features.data\n",
    "    lasthidden = lasthidden.data\n",
    "    if use_gpu:\n",
    "        features = features.cpu()\n",
    "        lasthidden = lasthidden.cpu()\n",
    "    return features, lasthidden, labels"
   ]
  },
  {
   "cell_type": "markdown",
   "metadata": {},
   "source": [
    "### Optimizer"
   ]
  },
  {
   "cell_type": "code",
   "execution_count": 37,
   "metadata": {},
   "outputs": [
    {
     "name": "stdout",
     "output_type": "stream",
     "text": [
      "CNN(\n",
      "  (C1): Conv2d(3, 32, kernel_size=(5, 5), stride=(1, 1))\n",
      "  (C2): Conv2d(32, 48, kernel_size=(5, 5), stride=(1, 1))\n",
      "  (LC_FC1): Linear(in_features=3072, out_features=100, bias=True)\n",
      "  (LC_FC2): Linear(in_features=100, out_features=100, bias=True)\n",
      "  (LC_FC3): Linear(in_features=100, out_features=10, bias=True)\n",
      "  (DC_FC1): Linear(in_features=3072, out_features=100, bias=True)\n",
      "  (DC_FC2): Linear(in_features=100, out_features=100, bias=True)\n",
      "  (DC_FC3): Linear(in_features=100, out_features=10, bias=True)\n",
      "  (DC_FC4): Linear(in_features=10, out_features=1, bias=True)\n",
      ")\n"
     ]
    }
   ],
   "source": [
    "net = CNN()\n",
    "if (use_gpu):\n",
    "    net.cuda()\n",
    "print(net)"
   ]
  },
  {
   "cell_type": "code",
   "execution_count": 38,
   "metadata": {},
   "outputs": [],
   "source": [
    "from math import exp\n",
    "\n",
    "lr_init = 0.001\n",
    "criterion_LC = nn.CrossEntropyLoss()\n",
    "\n",
    "params_FE =[net._modules['C1'].weight,net._modules['C1'].bias, \\\n",
    "            net._modules['C2'].weight,net._modules['C2'].bias]\n",
    "optimizer_FE = optim.SGD(params_FE, lr=lr_init, momentum=0.9)\n",
    "\n",
    "params_LC =[net._modules['LC_FC1'].weight,net._modules['LC_FC1'].bias, \\\n",
    "            net._modules['LC_FC2'].weight,net._modules['LC_FC2'].bias, \\\n",
    "            net._modules['LC_FC3'].weight,net._modules['LC_FC3'].bias]\n",
    "optimizer_LC = optim.SGD(params_LC, lr=lr_init, momentum=0.9)\n",
    "\n",
    "params_DC =[net._modules['DC_FC1'].weight,net._modules['DC_FC1'].bias, \\\n",
    "            net._modules['DC_FC2'].weight,net._modules['DC_FC2'].bias, \\\n",
    "            net._modules['DC_FC3'].weight,net._modules['DC_FC3'].bias, \\\n",
    "            net._modules['DC_FC4'].weight,net._modules['DC_FC4'].bias]\n",
    "optimizer_DC = optim.SGD(params_DC, lr=lr_init, momentum=0.9)\n",
    "\n",
    "\n",
    "\n",
    "def adjust_lr(optimizer, p):\n",
    "    global lr_init\n",
    "    lr_0 = lr_init\n",
    "    alpha = 10\n",
    "    beta = 0.75\n",
    "    lr = lr_0 / (1 + alpha * p) ** beta\n",
    "    for param_group in optimizer.param_groups:\n",
    "        param_group['lr'] = lr\n",
    "    return lr\n",
    "        \n",
    "def adjust_lamda(model, p):\n",
    "    gamma = 10\n",
    "    lamda = 2 / (1 + exp(- gamma * p)) - 1\n",
    "    model.set_lamda(lamda)\n",
    "    return lamda"
   ]
  },
  {
   "cell_type": "code",
   "execution_count": 39,
   "metadata": {},
   "outputs": [
    {
     "name": "stdout",
     "output_type": "stream",
     "text": [
      "load_model_da = False\n"
     ]
    }
   ],
   "source": [
    "para_file_da = \"./parameters/DA_WGAN.pt\"\n",
    "\n",
    "load_model_da = os.path.isfile(para_file_da)\n",
    "\n",
    "print(\"load_model_da = \" + str(load_model_da))"
   ]
  },
  {
   "cell_type": "code",
   "execution_count": 40,
   "metadata": {},
   "outputs": [],
   "source": [
    "def assign_feature_extraction_weight(model_src, model_tgt):\n",
    "    model_src.eval()\n",
    "    model_tgt.eval()\n",
    "    layer = 0\n",
    "    src_params = list(model_src.parameters())\n",
    "    tgt_params = list(model_tgt.parameters())\n",
    "    \n",
    "    # the feature extractor weight is the same for both model\n",
    "    for name, param in model_src.named_parameters():\n",
    "        if name[0] == 'C':\n",
    "            model_src.state_dict()[name].data.copy_(model_tgt.state_dict()[name].data)\n",
    "        layer += 1\n",
    "    \n"
   ]
  },
  {
   "cell_type": "code",
   "execution_count": 41,
   "metadata": {},
   "outputs": [],
   "source": [
    "#assign_feature_extraction_weight(LC,DC)"
   ]
  },
  {
   "cell_type": "code",
   "execution_count": 42,
   "metadata": {},
   "outputs": [],
   "source": [
    "#%%skip (not $load_model_da_dc)\n",
    "#DC.load_state_dict(torch.load(para_file_da_dc))\n",
    "#%%skip (not $load_model_da_lc)\n",
    "#LC.load_state_dict(torch.load(para_file_da_lc))"
   ]
  },
  {
   "cell_type": "code",
   "execution_count": 43,
   "metadata": {},
   "outputs": [],
   "source": [
    "def print_model_element(model):\n",
    "    for p in model.parameters():\n",
    "        print(p[0][0])\n",
    "        break"
   ]
  },
  {
   "cell_type": "code",
   "execution_count": 44,
   "metadata": {},
   "outputs": [
    {
     "name": "stdout",
     "output_type": "stream",
     "text": [
      "tensor([[-0.1258,  0.0721,  0.0892,  0.0150,  0.1463],\n",
      "        [ 0.1938, -0.0063, -0.0315, -0.1080, -0.0320],\n",
      "        [-0.1766,  0.1504,  0.2300,  0.1256,  0.0028],\n",
      "        [ 0.0931, -0.0488,  0.0282, -0.0196,  0.0150],\n",
      "        [ 0.1211,  0.1231, -0.0226,  0.1057, -0.1386]], device='cuda:0')\n"
     ]
    }
   ],
   "source": [
    "print_model_element(net)\n",
    "#params = list[net.parameters]\n",
    "#print(net.parameters)"
   ]
  },
  {
   "cell_type": "markdown",
   "metadata": {},
   "source": [
    "### Training process"
   ]
  },
  {
   "cell_type": "code",
   "execution_count": 45,
   "metadata": {
    "scrolled": true
   },
   "outputs": [
    {
     "name": "stdout",
     "output_type": "stream",
     "text": [
      "-----------------------\n",
      "Start domain classifier training\n",
      "Epoch 0 DC iter 1 loss: inf -> -0.186\n",
      "\n",
      "-----------------------\n",
      "Start label classifier training\n",
      "Epoch 0 LC iter 1 loss: inf -> 20.020\n",
      "\n",
      "-----------------------\n",
      "Start feature extractor training\n",
      "Epoch 0 LC iter 1 loss: inf -> -4.045\n",
      "\n",
      "-----------------------\n",
      "Start domain classifier training\n",
      "Epoch 1 DC iter 1 loss: -0.186 -> 1.212\n",
      "\n",
      "-----------------------\n",
      "Start label classifier training\n",
      "Epoch 1 LC iter 1 loss: 20.020 -> 10.541\n",
      "\n",
      "-----------------------\n",
      "Start feature extractor training\n",
      "Epoch 1 LC iter 1 loss: -4.045 -> 7.820\n",
      "\n",
      "-----------------------\n",
      "Start domain classifier training\n",
      "Epoch 2 DC iter 1 loss: 1.212 -> 0.191\n",
      "\n",
      "-----------------------\n",
      "Start label classifier training\n",
      "Epoch 2 LC iter 1 loss: 10.541 -> 8.202\n",
      "\n",
      "-----------------------\n",
      "Start feature extractor training\n",
      "Epoch 2 LC iter 1 loss: 7.820 -> 6.884\n",
      "\n",
      "-----------------------\n",
      "Start domain classifier training\n",
      "Epoch 3 DC iter 1 loss: 0.191 -> 0.115\n",
      "\n",
      "-----------------------\n",
      "Start label classifier training\n",
      "Epoch 3 LC iter 1 loss: 8.202 -> 7.078\n",
      "\n",
      "-----------------------\n",
      "Start feature extractor training\n",
      "Epoch 3 LC iter 1 loss: 6.884 -> 6.215\n",
      "\n",
      "-----------------------\n",
      "Start domain classifier training\n",
      "Epoch 4 DC iter 1 loss: 0.115 -> 0.084\n",
      "\n",
      "-----------------------\n",
      "Start label classifier training\n",
      "Epoch 4 LC iter 1 loss: 7.078 -> 6.377\n",
      "\n",
      "-----------------------\n",
      "Start feature extractor training\n",
      "Epoch 4 LC iter 1 loss: 6.215 -> 5.743\n",
      "\n",
      "-----------------------\n",
      "Start domain classifier training\n",
      "Epoch 5 DC iter 1 loss: 0.084 -> 0.067\n",
      "\n",
      "-----------------------\n",
      "Start label classifier training\n",
      "Epoch 5 LC iter 1 loss: 6.377 -> 5.890\n",
      "\n",
      "-----------------------\n",
      "Start feature extractor training\n",
      "Epoch 5 LC iter 1 loss: 5.743 -> 5.394\n",
      "\n",
      "-----------------------\n",
      "Start domain classifier training\n",
      "Epoch 6 DC iter 1 loss: 0.067 -> 0.056\n",
      "\n",
      "-----------------------\n",
      "Start label classifier training\n",
      "Epoch 6 LC iter 1 loss: 5.890 -> 5.528\n",
      "\n",
      "-----------------------\n",
      "Start feature extractor training\n",
      "Epoch 6 LC iter 1 loss: 5.394 -> 5.124\n",
      "\n",
      "-----------------------\n",
      "Start domain classifier training\n",
      "Epoch 7 DC iter 1 loss: 0.056 -> 0.047\n",
      "\n",
      "-----------------------\n",
      "Start label classifier training\n",
      "Epoch 7 LC iter 1 loss: 5.528 -> 5.247\n",
      "\n",
      "-----------------------\n",
      "Start feature extractor training\n",
      "Epoch 7 LC iter 1 loss: 5.124 -> 4.906\n",
      "\n",
      "-----------------------\n",
      "Start domain classifier training\n",
      "Epoch 8 DC iter 1 loss: 0.047 -> 0.041\n",
      "\n",
      "-----------------------\n",
      "Start label classifier training\n",
      "Epoch 8 LC iter 1 loss: 5.247 -> 5.020\n",
      "\n",
      "-----------------------\n",
      "Start feature extractor training\n",
      "Epoch 8 LC iter 1 loss: 4.906 -> 4.728\n",
      "\n",
      "-----------------------\n",
      "Start domain classifier training\n",
      "Epoch 9 DC iter 1 loss: 0.041 -> 0.037\n",
      "\n",
      "-----------------------\n",
      "Start label classifier training\n",
      "Epoch 9 LC iter 1 loss: 5.020 -> 4.833\n",
      "\n",
      "-----------------------\n",
      "Start feature extractor training\n",
      "Epoch 9 LC iter 1 loss: 4.728 -> 4.577\n",
      "\n",
      "-----------------------\n",
      "Start domain classifier training\n",
      "Epoch 10 DC iter 1 loss: 0.037 -> 0.033\n",
      "\n",
      "-----------------------\n",
      "Start label classifier training\n",
      "Epoch 10 LC iter 1 loss: 4.833 -> 4.675\n",
      "\n",
      "-----------------------\n",
      "Start feature extractor training\n",
      "Epoch 10 LC iter 1 loss: 4.577 -> 4.448\n",
      "\n",
      "-----------------------\n",
      "Start domain classifier training\n",
      "Epoch 11 DC iter 1 loss: 0.033 -> 0.030\n",
      "\n",
      "-----------------------\n",
      "Start label classifier training\n",
      "Epoch 11 LC iter 1 loss: 4.675 -> 4.540\n",
      "\n",
      "-----------------------\n",
      "Start feature extractor training\n",
      "Epoch 11 LC iter 1 loss: 4.448 -> 4.337\n",
      "\n",
      "-----------------------\n",
      "Start domain classifier training\n",
      "Epoch 12 DC iter 1 loss: 0.030 -> 0.027\n",
      "\n",
      "-----------------------\n",
      "Start label classifier training\n",
      "Epoch 12 LC iter 1 loss: 4.540 -> 4.423\n",
      "\n",
      "-----------------------\n",
      "Start feature extractor training\n",
      "Epoch 12 LC iter 1 loss: 4.337 -> 4.239\n",
      "\n",
      "-----------------------\n",
      "Start domain classifier training\n",
      "Epoch 13 DC iter 1 loss: 0.027 -> 0.025\n",
      "\n",
      "-----------------------\n",
      "Start label classifier training\n",
      "Epoch 13 LC iter 1 loss: 4.423 -> 4.320\n",
      "\n",
      "-----------------------\n",
      "Start feature extractor training\n",
      "Epoch 13 LC iter 1 loss: 4.239 -> 4.152\n",
      "\n",
      "-----------------------\n",
      "Start domain classifier training\n",
      "Epoch 14 DC iter 1 loss: 0.025 -> 0.023\n",
      "\n",
      "-----------------------\n",
      "Start label classifier training\n",
      "Epoch 14 LC iter 1 loss: 4.320 -> 4.228\n",
      "\n",
      "-----------------------\n",
      "Start feature extractor training\n",
      "Epoch 14 LC iter 1 loss: 4.152 -> 4.074\n",
      "\n",
      "-----------------------\n",
      "Start domain classifier training\n",
      "Epoch 15 DC iter 1 loss: 0.023 -> 0.022\n",
      "\n",
      "-----------------------\n",
      "Start label classifier training\n",
      "Epoch 15 LC iter 1 loss: 4.228 -> 4.147\n",
      "\n",
      "-----------------------\n",
      "Start feature extractor training\n",
      "Epoch 15 LC iter 1 loss: 4.074 -> 4.004\n",
      "\n",
      "-----------------------\n",
      "Start domain classifier training\n",
      "Epoch 16 DC iter 1 loss: 0.022 -> 0.020\n",
      "\n",
      "-----------------------\n",
      "Start label classifier training\n",
      "Epoch 16 LC iter 1 loss: 4.147 -> 4.073\n",
      "\n",
      "-----------------------\n",
      "Start feature extractor training\n",
      "Epoch 16 LC iter 1 loss: 4.004 -> 3.940\n",
      "\n",
      "-----------------------\n",
      "Start domain classifier training\n",
      "Epoch 17 DC iter 1 loss: 0.020 -> 0.019\n",
      "\n",
      "-----------------------\n",
      "Start label classifier training\n",
      "Epoch 17 LC iter 1 loss: 4.073 -> 4.006\n",
      "\n",
      "-----------------------\n",
      "Start feature extractor training\n",
      "Epoch 17 LC iter 1 loss: 3.940 -> 3.882\n",
      "\n",
      "-----------------------\n",
      "Start domain classifier training\n",
      "Epoch 18 DC iter 1 loss: 0.019 -> 0.018\n",
      "\n",
      "-----------------------\n",
      "Start label classifier training\n",
      "Epoch 18 LC iter 1 loss: 4.006 -> 3.945\n",
      "\n",
      "-----------------------\n",
      "Start feature extractor training\n",
      "Epoch 18 LC iter 1 loss: 3.882 -> 3.828\n",
      "\n",
      "-----------------------\n",
      "Start domain classifier training\n",
      "Epoch 19 DC iter 1 loss: 0.018 -> 0.017\n",
      "\n",
      "-----------------------\n",
      "Start label classifier training\n",
      "Epoch 19 LC iter 1 loss: 3.945 -> 3.889\n",
      "\n",
      "-----------------------\n",
      "Start feature extractor training\n",
      "Epoch 19 LC iter 1 loss: 3.828 -> 3.779\n",
      "\n",
      "-----------------------\n",
      "Start domain classifier training\n",
      "Epoch 20 DC iter 1 loss: 0.017 -> 0.016\n",
      "\n",
      "-----------------------\n",
      "Start label classifier training\n",
      "Epoch 20 LC iter 1 loss: 3.889 -> 3.837\n",
      "\n",
      "-----------------------\n",
      "Start feature extractor training\n",
      "Epoch 20 LC iter 1 loss: 3.779 -> 3.733\n",
      "\n",
      "-----------------------\n",
      "Start domain classifier training\n",
      "Epoch 21 DC iter 1 loss: 0.016 -> 0.015\n",
      "\n",
      "-----------------------\n",
      "Start label classifier training\n",
      "Epoch 21 LC iter 1 loss: 3.837 -> 3.790\n",
      "\n",
      "-----------------------\n",
      "Start feature extractor training\n",
      "Epoch 21 LC iter 1 loss: 3.733 -> 3.691\n",
      "\n",
      "-----------------------\n",
      "Start domain classifier training\n",
      "Epoch 22 DC iter 1 loss: 0.015 -> 0.015\n",
      "\n",
      "-----------------------\n",
      "Start label classifier training\n",
      "Epoch 22 LC iter 1 loss: 3.790 -> 3.745\n",
      "\n",
      "-----------------------\n",
      "Start feature extractor training\n",
      "Epoch 22 LC iter 1 loss: 3.691 -> 3.651\n",
      "\n",
      "-----------------------\n",
      "Start domain classifier training\n",
      "Epoch 23 DC iter 1 loss: 0.015 -> 0.014\n",
      "\n",
      "-----------------------\n",
      "Start label classifier training\n",
      "Epoch 23 LC iter 1 loss: 3.745 -> 3.703\n",
      "\n",
      "-----------------------\n",
      "Start feature extractor training\n",
      "Epoch 23 LC iter 1 loss: 3.651 -> 3.614\n",
      "\n",
      "-----------------------\n",
      "Start domain classifier training\n",
      "Epoch 24 DC iter 1 loss: 0.014 -> 0.013\n",
      "\n",
      "-----------------------\n",
      "Start label classifier training\n",
      "Epoch 24 LC iter 1 loss: 3.703 -> 3.664\n",
      "\n",
      "-----------------------\n",
      "Start feature extractor training\n",
      "Epoch 24 LC iter 1 loss: 3.614 -> 3.579\n",
      "\n"
     ]
    }
   ],
   "source": [
    "#%%skip $load_model_da_dc\n",
    "\n",
    "\n",
    "total_epoch = 25\n",
    "lamda = 5\n",
    "\n",
    "\n",
    "prev_loss_DC = np.float(\"inf\")\n",
    "prev_loss_LC = np.float(\"inf\")\n",
    "prev_loss_FE = np.float(\"inf\")\n",
    "\n",
    "for epoch in range(total_epoch):\n",
    "    p = epoch * 1.0 / total_epoch\n",
    "\n",
    "    \n",
    "    print('-----------------------')\n",
    "    print('Start domain classifier training')    \n",
    "    #print_model_element(net)    \n",
    "    # domain classifier \n",
    "    for DC_iter in range(1):\n",
    "        epoch_loss_DC = 0.0\n",
    "        running_loss_DC = 0.0\n",
    "        for batch_idx, data in enumerate(trainloader_da):\n",
    "        \n",
    "            # get inputs\n",
    "            source_size = data[0].size()[0] // 2\n",
    "            inputs, labels, domains = data\n",
    "\n",
    "            domains = domains.to(torch.float32)\n",
    "            if (use_gpu):\n",
    "                inputs, domains = inputs.cuda(), domains.cuda()\n",
    "            inputs, domains = Variable(inputs), Variable(domains)\n",
    "\n",
    "            # forward\n",
    "            source_domain = domains[:source_size]\n",
    "\n",
    "            target_domain = domains[-source_size:]\n",
    "            \n",
    "            optimizer_DC.zero_grad()\n",
    "            _, pred_domains = net(inputs)\n",
    "            pred_source_domain = pred_domains[:source_size]\n",
    "            pred_target_domain = pred_domains[-source_size:]            \n",
    "            \n",
    "            # pred_source_domains should be 0 \n",
    "            \n",
    "            loss_DC_source = -(-torch.mean(pred_source_domain))/batch_size\n",
    "            \n",
    "            # pred_source_domains should be 1\n",
    "            loss_DC_target = -(torch.mean(pred_target_domain))/batch_size\n",
    "                \n",
    "            loss_DC = loss_DC_source + loss_DC_target\n",
    "\n",
    "            loss_DC.backward()\n",
    "            optimizer_DC.step()\n",
    "\n",
    "            # stat\n",
    "            epoch_loss_DC += loss_DC.item()\n",
    "            running_loss_DC += loss_DC.item()\n",
    "            #print(loss_DC.cpu().data.numpy())\n",
    "\n",
    "        print(\"Epoch %d DC iter %d loss: %.3f -> %.3f\\n\" % (epoch , DC_iter + 1, prev_loss_DC, epoch_loss_DC))\n",
    "        if prev_loss_DC - epoch_loss_DC < 0.1:\n",
    "            prev_loss_DC = epoch_loss_DC\n",
    "            pass\n",
    "        else:\n",
    "            prev_loss_DC = epoch_loss_DC                \n",
    "\n",
    "    #print_model_element(net) \n",
    " \n",
    "\n",
    "    print('-----------------------')\n",
    "    print('Start label classifier training')\n",
    "    # Label classifier\n",
    "    adjust_lr(optimizer_LC, p)\n",
    "    for LC_iter in range(1):\n",
    "        epoch_loss_LC = 0.0\n",
    "        running_loss_LC = 0.0\n",
    "        for batch_idx, data in enumerate(trainloader_da):\n",
    "\n",
    "            # get inputs\n",
    "            source_size = data[0].size()[0] // 2\n",
    "\n",
    "            inputs, labels, domains = data\n",
    "\n",
    "            domains = domains.to(torch.float32)\n",
    "            if (use_gpu):\n",
    "                inputs, labels, domains = inputs.cuda(), labels.cuda(), domains.cuda()\n",
    "            inputs, labels, domains = Variable(inputs), Variable(labels), Variable(domains)\n",
    "\n",
    "            optimizer_LC.zero_grad()\n",
    "            # forward\n",
    "            pred_labels, _ = net(inputs)\n",
    "            src_label = pred_labels[:source_size]\n",
    "            loss_LC = criterion_LC(src_label, labels[:source_size])/batch_size\n",
    "            loss_LC.backward()\n",
    "            optimizer_LC.step()\n",
    "\n",
    "            # stat\n",
    "            epoch_loss_LC += loss_LC.item()\n",
    "            running_loss_LC += loss_LC.item()\n",
    "\n",
    "        print(\"Epoch %d LC iter %d loss: %.3f -> %.3f\\n\" % (epoch, LC_iter + 1, prev_loss_LC, epoch_loss_LC))\n",
    "        if prev_loss_LC - epoch_loss_LC < 0.1:\n",
    "            prev_loss_LC = epoch_loss_LC\n",
    "            pass\n",
    "        else:\n",
    "            prev_loss_LC = epoch_loss_LC            \n",
    "    \n",
    "    #print_model_element(net)\n",
    "    \n",
    "    \n",
    "    print('-----------------------')\n",
    "    print('Start feature extractor training')\n",
    "    # feature extractor\n",
    "    adjust_lr(optimizer_FE, p)\n",
    "    for FE_iter in range(1):\n",
    "        epoch_loss_FE = 0.0\n",
    "        running_loss_FE = 0.0\n",
    "        for batch_idx, data in enumerate(trainloader_da):\n",
    "\n",
    "            # get inputs\n",
    "            source_size = data[0].size()[0] // 2\n",
    "\n",
    "            inputs, labels, domains = data\n",
    "\n",
    "            domains = domains.to(torch.float32)\n",
    "            if (use_gpu):\n",
    "                inputs, labels, domains = inputs.cuda(), labels.cuda(), domains.cuda()\n",
    "            inputs, labels, domains = Variable(inputs), Variable(labels), Variable(domains)\n",
    "\n",
    "            optimizer_FE.zero_grad()\n",
    "            # forward\n",
    "            pred_labels, pred_domains = net(inputs)\n",
    "            pred_source_domain = pred_domains[:source_size]\n",
    "            pred_target_domain = pred_domains[-source_size:]\n",
    "            src_label = pred_labels[:source_size]\n",
    "            loss_LC = criterion_LC(src_label, labels[:source_size])/batch_size\n",
    "            # pred_source_domains should be 0 \n",
    "            loss_DC_source = (-torch.mean(pred_source_domain))/batch_size            \n",
    "            # pred_source_domains should be 1\n",
    "            loss_DC_target = (torch.mean(pred_target_domain))/batch_size  \n",
    "            loss_FE = loss_LC + lamda*(loss_DC_source + loss_DC_target)\n",
    "            loss_FE.backward()\n",
    "            optimizer_FE.step()\n",
    "\n",
    "            # stat\n",
    "            epoch_loss_FE += loss_FE.item()\n",
    "            running_loss_FE += loss_FE.item()\n",
    "\n",
    "        print(\"Epoch %d LC iter %d loss: %.3f -> %.3f\\n\" % (epoch , FE_iter + 1, prev_loss_FE, epoch_loss_FE))\n",
    "        if prev_loss_FE - epoch_loss_FE < 0.1:\n",
    "            prev_loss_FE = epoch_loss_FE\n",
    "            pass\n",
    "        else:\n",
    "            prev_loss_FE = epoch_loss_FE            \n",
    "    \n",
    "    #print_model_element(net)    \n",
    "    "
   ]
  },
  {
   "cell_type": "code",
   "execution_count": 47,
   "metadata": {},
   "outputs": [],
   "source": [
    "torch.save(net.state_dict(), para_file_da)"
   ]
  },
  {
   "cell_type": "markdown",
   "metadata": {},
   "source": [
    "### Test on MNIST and MNIST-M dataset"
   ]
  },
  {
   "cell_type": "code",
   "execution_count": 48,
   "metadata": {},
   "outputs": [],
   "source": [
    "def evaluate_da_accuracy(model ,dataloader, source):\n",
    "    model.eval()\n",
    "    correct_LC = 0\n",
    "    total = 0\n",
    "    \n",
    "    with torch.no_grad():\n",
    "        for i, data in enumerate(dataloader):\n",
    "            inputs, labels = data\n",
    "            if (use_gpu):\n",
    "                inputs, labels = inputs.cuda(), labels.cuda()\n",
    "            inputs, labels = Variable(inputs, volatile = True), Variable(labels, volatile = True)\n",
    "\n",
    "            \n",
    "            outputs_LC, _ = model(inputs)\n",
    "            correct_LC += (torch.max(outputs_LC.data, 1)[1] == labels.data).sum().item()\n",
    "\n",
    "            total += labels.size()[0]\n",
    "        acc_LC = correct_LC / total\n",
    "    return acc_LC"
   ]
  },
  {
   "cell_type": "code",
   "execution_count": 49,
   "metadata": {},
   "outputs": [
    {
     "name": "stderr",
     "output_type": "stream",
     "text": [
      "/opt/conda/lib/python3.6/site-packages/ipykernel_launcher.py:11: UserWarning: volatile was removed and now has no effect. Use `with torch.no_grad():` instead.\n",
      "  # This is added back by InteractiveShellApp.init_path()\n"
     ]
    },
    {
     "name": "stdout",
     "output_type": "stream",
     "text": [
      "Label classifier accuracy on MNIST test set (DA): 0.847800\n"
     ]
    }
   ],
   "source": [
    "print(\"Label classifier accuracy on MNIST test set (DA): %f\"\n",
    "      %evaluate_da_accuracy(net, testloader, source=True))"
   ]
  },
  {
   "cell_type": "code",
   "execution_count": 50,
   "metadata": {},
   "outputs": [
    {
     "name": "stderr",
     "output_type": "stream",
     "text": [
      "/opt/conda/lib/python3.6/site-packages/ipykernel_launcher.py:11: UserWarning: volatile was removed and now has no effect. Use `with torch.no_grad():` instead.\n",
      "  # This is added back by InteractiveShellApp.init_path()\n"
     ]
    },
    {
     "name": "stdout",
     "output_type": "stream",
     "text": [
      "Label classifier accuracy on MNIST-M test set (DA): 0.344667\n",
      "\n"
     ]
    }
   ],
   "source": [
    "print(\"Label classifier accuracy on MNIST-M test set (DA): %f\\n\"\n",
    "      %evaluate_da_accuracy(net, testloader_m, source=True))"
   ]
  },
  {
   "cell_type": "code",
   "execution_count": null,
   "metadata": {},
   "outputs": [],
   "source": []
  }
 ],
 "metadata": {
  "accelerator": "GPU",
  "colab": {
   "collapsed_sections": [],
   "default_view": {},
   "name": "My_CNN_Tutorial.ipynb",
   "provenance": [],
   "version": "0.3.2",
   "views": {}
  },
  "kernelspec": {
   "display_name": "Python 3",
   "language": "python",
   "name": "python3"
  },
  "language_info": {
   "codemirror_mode": {
    "name": "ipython",
    "version": 3
   },
   "file_extension": ".py",
   "mimetype": "text/x-python",
   "name": "python",
   "nbconvert_exporter": "python",
   "pygments_lexer": "ipython3",
   "version": "3.6.4"
  }
 },
 "nbformat": 4,
 "nbformat_minor": 1
}
