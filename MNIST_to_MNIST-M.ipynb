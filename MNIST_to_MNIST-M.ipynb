{
 "cells": [
  {
   "cell_type": "markdown",
   "metadata": {
    "colab_type": "text",
    "id": "RTya_dtvpdaX"
   },
   "source": [
    "# Preparations"
   ]
  },
  {
   "cell_type": "code",
   "execution_count": 1,
   "metadata": {
    "colab": {
     "autoexec": {
      "startup": false,
      "wait_interval": 0
     }
    },
    "colab_type": "code",
    "id": "e9W0cTFEPmAl"
   },
   "outputs": [],
   "source": [
    "import torch\n",
    "import torchvision\n",
    "import os.path\n",
    "\n",
    "import numpy as np\n",
    "import torch.nn as nn\n",
    "import torch.nn.functional as F\n",
    "import torch.optim as optim\n",
    "import torchvision.transforms as transforms\n",
    "import matplotlib.pyplot as plt\n",
    "\n",
    "from sklearn import manifold\n",
    "from math import exp\n",
    "from torch.autograd import Variable\n",
    "from my_dataset import MNIST_M\n",
    "from my_dataset import ST_Dataset\n",
    "\n",
    "%matplotlib inline\n",
    "%load_ext skip_kernel_extension"
   ]
  },
  {
   "cell_type": "code",
   "execution_count": 2,
   "metadata": {
    "colab": {
     "autoexec": {
      "startup": false,
      "wait_interval": 0
     },
     "base_uri": "https://localhost:8080/",
     "height": 35
    },
    "colab_type": "code",
    "executionInfo": {
     "elapsed": 363,
     "status": "ok",
     "timestamp": 1523506225267,
     "user": {
      "displayName": "Yuan Qi",
      "photoUrl": "//lh6.googleusercontent.com/--bd6SE8_hDo/AAAAAAAAAAI/AAAAAAAAAE0/J27oawL5omk/s50-c-k-no/photo.jpg",
      "userId": "112219197582513023329"
     },
     "user_tz": 420
    },
    "id": "4BrzNF_oQL77",
    "outputId": "fe8e2212-37c8-4027-d176-ef46991bcd01"
   },
   "outputs": [
    {
     "name": "stdout",
     "output_type": "stream",
     "text": [
      "use_gpu = True\n"
     ]
    }
   ],
   "source": [
    "use_gpu = torch.cuda.is_available()\n",
    "print(\"use_gpu = \" + str(use_gpu))"
   ]
  },
  {
   "cell_type": "markdown",
   "metadata": {
    "colab_type": "text",
    "id": "5AX_Msxj4we7"
   },
   "source": [
    "# Structure\n",
    "\n",
    "![MNIST Structure](https://c1.staticflickr.com/1/978/41270649404_41480327ce_o.png)"
   ]
  },
  {
   "cell_type": "code",
   "execution_count": 3,
   "metadata": {
    "colab": {
     "autoexec": {
      "startup": false,
      "wait_interval": 0
     },
     "base_uri": "https://localhost:8080/",
     "height": 211
    },
    "colab_type": "code",
    "executionInfo": {
     "elapsed": 310,
     "status": "ok",
     "timestamp": 1523506395172,
     "user": {
      "displayName": "Yuan Qi",
      "photoUrl": "//lh6.googleusercontent.com/--bd6SE8_hDo/AAAAAAAAAAI/AAAAAAAAAE0/J27oawL5omk/s50-c-k-no/photo.jpg",
      "userId": "112219197582513023329"
     },
     "user_tz": 420
    },
    "id": "d5glpPlhprD4",
    "outputId": "6e9189d3-996c-434c-985e-0e88793fe4eb",
    "scrolled": true
   },
   "outputs": [],
   "source": [
    "import torch.nn as nn\n",
    "import torch.nn.functional as F\n",
    "\n",
    "class CNN(nn.Module):\n",
    "    \n",
    "    def __init__(self):\n",
    "        super(CNN, self).__init__()\n",
    "        self.C1 = nn.Conv2d(3, 32, 5)\n",
    "        self.C2 = nn.Conv2d(32, 48, 5)\n",
    "        self.FC1 = nn.Linear(48 * 4 * 4, 100)\n",
    "        self.FC2 = nn.Linear(100, 100)\n",
    "        self.FC3 = nn.Linear(100, 10)\n",
    "        \n",
    "    def forward(self, x):\n",
    "        # C1\n",
    "        x = F.relu(self.C1(x))\n",
    "        # M1\n",
    "        x = F.max_pool2d(x, (2, 2))\n",
    "        # C2\n",
    "        x = F.relu(self.C2(x))\n",
    "        # M2\n",
    "        x = F.max_pool2d(x, (2, 2))\n",
    "        # x's size is (128, 48, 4, 4)\n",
    "        # flatten\n",
    "        x = x.view(-1, 48 * 4 * 4)\n",
    "        f = x\n",
    "        # FC1\n",
    "        x = F.relu(self.FC1(x))\n",
    "        # FC2\n",
    "        x = F.relu(self.FC2(x))\n",
    "        lh = x\n",
    "        # FC3\n",
    "        x = self.FC3(x)\n",
    "        return x, f, lh"
   ]
  },
  {
   "cell_type": "code",
   "execution_count": 4,
   "metadata": {},
   "outputs": [
    {
     "name": "stdout",
     "output_type": "stream",
     "text": [
      "CNN(\n",
      "  (C1): Conv2d(3, 32, kernel_size=(5, 5), stride=(1, 1))\n",
      "  (C2): Conv2d(32, 48, kernel_size=(5, 5), stride=(1, 1))\n",
      "  (FC1): Linear(in_features=768, out_features=100, bias=True)\n",
      "  (FC2): Linear(in_features=100, out_features=100, bias=True)\n",
      "  (FC3): Linear(in_features=100, out_features=10, bias=True)\n",
      ")\n"
     ]
    }
   ],
   "source": [
    "cnn = CNN()\n",
    "if (use_gpu):\n",
    "    cnn.cuda()\n",
    "print(cnn)"
   ]
  },
  {
   "cell_type": "markdown",
   "metadata": {
    "colab_type": "text",
    "id": "WaXlbBWN44Gd"
   },
   "source": [
    "# MNIST Dataset\n",
    "\n",
    "Load the dataset using $\\texttt{torchvision}$.\n",
    "\n",
    "* Usage of $\\texttt{transforms.Normalize(mean, std)}$:<br>\n",
    "Assume that the input has $d$ channels, $\\texttt{mean}$ should be a tuple of $d$ values, so should $\\texttt{std}$. Let $\\texttt{mean = (m1, m2, ..., md)}$ and $\\texttt{std = (s1, s2, ..., sd)}$. Then the transform does $$\\texttt{input[channel] = (input[channel] - mean[channel]) / std[channel]}\\text{.}$$"
   ]
  },
  {
   "cell_type": "code",
   "execution_count": 5,
   "metadata": {
    "colab": {
     "autoexec": {
      "startup": false,
      "wait_interval": 0
     }
    },
    "colab_type": "code",
    "id": "3W2qqi9azoVs"
   },
   "outputs": [],
   "source": [
    "import torchvision\n",
    "import torchvision.transforms as transforms"
   ]
  },
  {
   "cell_type": "code",
   "execution_count": 6,
   "metadata": {
    "colab": {
     "autoexec": {
      "startup": false,
      "wait_interval": 0
     },
     "base_uri": "https://localhost:8080/",
     "height": 123
    },
    "colab_type": "code",
    "executionInfo": {
     "elapsed": 30198,
     "status": "ok",
     "timestamp": 1523506265222,
     "user": {
      "displayName": "Yuan Qi",
      "photoUrl": "//lh6.googleusercontent.com/--bd6SE8_hDo/AAAAAAAAAAI/AAAAAAAAAE0/J27oawL5omk/s50-c-k-no/photo.jpg",
      "userId": "112219197582513023329"
     },
     "user_tz": 420
    },
    "id": "e5G7cSEk0V2S",
    "outputId": "621eee0f-8ee7-490e-db5f-f82317d18f8c"
   },
   "outputs": [
    {
     "name": "stdout",
     "output_type": "stream",
     "text": [
      "Downloading http://yann.lecun.com/exdb/mnist/train-images-idx3-ubyte.gz\n",
      "Downloading http://yann.lecun.com/exdb/mnist/train-labels-idx1-ubyte.gz\n",
      "Downloading http://yann.lecun.com/exdb/mnist/t10k-images-idx3-ubyte.gz\n",
      "Downloading http://yann.lecun.com/exdb/mnist/t10k-labels-idx1-ubyte.gz\n",
      "Processing...\n",
      "Done!\n"
     ]
    }
   ],
   "source": [
    "batch_size = 128\n",
    "root_dir = \"./data/mnist/\"\n",
    "\n",
    "transform = transforms.Compose([\n",
    "    transforms.ToTensor(),\n",
    "    transforms.Normalize((0.5, ), (0.5, )),\n",
    "    #transforms.Normalize((0.13066047712053577, ), (1, )),\n",
    "    transforms.Lambda(lambda x: torch.cat((x, x, x), dim=0))\n",
    "])\n",
    "\n",
    "trainset = torchvision.datasets.MNIST(root_dir, train=True, transform=transform,\n",
    "                                      target_transform=None, download=True)\n",
    "trainloader = torch.utils.data.DataLoader(trainset, batch_size=batch_size,\n",
    "                                          shuffle=False, num_workers=0)\n",
    "testset = torchvision.datasets.MNIST(root_dir, train=False, transform=transform,\n",
    "                                      target_transform=None, download=True)\n",
    "testloader = torch.utils.data.DataLoader(testset, batch_size=batch_size,\n",
    "                                          shuffle=False, num_workers=0)"
   ]
  },
  {
   "cell_type": "code",
   "execution_count": 7,
   "metadata": {
    "colab": {
     "autoexec": {
      "startup": false,
      "wait_interval": 0
     },
     "base_uri": "https://localhost:8080/",
     "height": 159
    },
    "colab_type": "code",
    "executionInfo": {
     "elapsed": 381,
     "status": "ok",
     "timestamp": 1523506265637,
     "user": {
      "displayName": "Yuan Qi",
      "photoUrl": "//lh6.googleusercontent.com/--bd6SE8_hDo/AAAAAAAAAAI/AAAAAAAAAE0/J27oawL5omk/s50-c-k-no/photo.jpg",
      "userId": "112219197582513023329"
     },
     "user_tz": 420
    },
    "id": "VTlEvJBY-ziX",
    "outputId": "54f6931a-ca67-452c-81fc-6c4cfae9e89a"
   },
   "outputs": [
    {
     "name": "stderr",
     "output_type": "stream",
     "text": [
      "Clipping input data to the valid range for imshow with RGB data ([0..1] for floats or [0..255] for integers).\n"
     ]
    },
    {
     "name": "stdout",
     "output_type": "stream",
     "text": [
      "The 42th image in the first 128 images in the training set:\n"
     ]
    },
    {
     "data": {
      "image/png": "[encoded data removed]",
      "text/plain": [
       "<Figure size 72x72 with 1 Axes>"
      ]
     },
     "metadata": {},
     "output_type": "display_data"
    },
    {
     "name": "stdout",
     "output_type": "stream",
     "text": [
      "Its correspondent label:\n",
      "tensor(7)\n"
     ]
    }
   ],
   "source": [
    "# randomly plot a sample from training set\n",
    "import matplotlib.pyplot as plt\n",
    "\n",
    "inputs = None\n",
    "labels = None\n",
    "for i, data in enumerate(trainloader):\n",
    "    inputs, labels = data\n",
    "    break\n",
    "\n",
    "idx = np.random.randint(0, batch_size)\n",
    "print(\"The \" + str(idx) + \"th image in the first \" + str(batch_size) +\\\n",
    "      \" images in the training set:\")\n",
    "plt.figure(figsize=(1,1))\n",
    "plt.axis(\"off\")\n",
    "plt.imshow(inputs[idx].permute(1, 2, 0).numpy())\n",
    "plt.show()\n",
    "print(\"Its correspondent label:\\n\" + str(labels[idx]))"
   ]
  },
  {
   "cell_type": "markdown",
   "metadata": {
    "colab_type": "text",
    "id": "pcSb16SIFgZt"
   },
   "source": [
    "## Training on MNIST\n",
    "\n",
    "Or you can load the parameters directly."
   ]
  },
  {
   "cell_type": "code",
   "execution_count": 18,
   "metadata": {},
   "outputs": [
    {
     "name": "stdout",
     "output_type": "stream",
     "text": [
      "load_model = False\n"
     ]
    }
   ],
   "source": [
    "import os.path\n",
    "para_file = \"./parameters/cnn_mnist.pt\"\n",
    "if not os.path.exists('./parameters'):\n",
    "    os.makedirs('./parameters')\n",
    "load_model = os.path.isfile(para_file)\n",
    "print(\"load_model = \" + str(load_model))"
   ]
  },
  {
   "cell_type": "code",
   "execution_count": 19,
   "metadata": {},
   "outputs": [],
   "source": [
    "%%skip (not $load_model)\n",
    "cnn.load_state_dict(torch.load(para_file))"
   ]
  },
  {
   "cell_type": "markdown",
   "metadata": {},
   "source": [
    "### Optimizer"
   ]
  },
  {
   "cell_type": "code",
   "execution_count": 10,
   "metadata": {
    "colab": {
     "autoexec": {
      "startup": false,
      "wait_interval": 0
     }
    },
    "colab_type": "code",
    "id": "YRHBSIQ2FkOL"
   },
   "outputs": [],
   "source": [
    "import torch.optim as optim\n",
    "\n",
    "lr_init = 0.01\n",
    "criterion = nn.CrossEntropyLoss()\n",
    "optimizer = optim.SGD(cnn.parameters(), lr=lr_init, momentum=0.9)\n",
    "\n",
    "def adjust_lr(optimizer, p):\n",
    "    global lr_init\n",
    "    lr_0 = lr_init\n",
    "    alpha = 10\n",
    "    beta = 0.75\n",
    "    lr = lr_0 / (1 + alpha * p) ** beta\n",
    "    for param_group in optimizer.param_groups:\n",
    "        param_group['lr'] = lr"
   ]
  },
  {
   "cell_type": "markdown",
   "metadata": {
    "colab_type": "text",
    "id": "DgUSfM0KF4iT"
   },
   "source": [
    "### Training process"
   ]
  },
  {
   "cell_type": "code",
   "execution_count": 11,
   "metadata": {
    "colab": {
     "autoexec": {
      "startup": false,
      "wait_interval": 0
     },
     "base_uri": "https://localhost:8080/",
     "height": 10050
    },
    "colab_type": "code",
    "executionInfo": {
     "elapsed": 606703,
     "status": "ok",
     "timestamp": 1523144380194,
     "user": {
      "displayName": "Yuan Qi",
      "photoUrl": "//lh6.googleusercontent.com/--bd6SE8_hDo/AAAAAAAAAAI/AAAAAAAAAE0/J27oawL5omk/s50-c-k-no/photo.jpg",
      "userId": "112219197582513023329"
     },
     "user_tz": 420
    },
    "id": "IlstjDLbFkQ6",
    "outputId": "59a56d48-bdaa-4e0e-bc20-0feaecd74fa5",
    "scrolled": true
   },
   "outputs": [
    {
     "name": "stdout",
     "output_type": "stream",
     "text": [
      "[ 50] batch loss: 2.229\n",
      "[100] batch loss: 0.872\n",
      "[150] batch loss: 0.324\n",
      "[200] batch loss: 0.202\n",
      "[250] batch loss: 0.187\n",
      "[300] batch loss: 0.153\n",
      "[350] batch loss: 0.152\n",
      "[400] batch loss: 0.144\n",
      "[450] batch loss: 0.097\n",
      "epoch 1 loss: inf -> 219.442\n",
      "\n",
      "[ 50] batch loss: 0.087\n",
      "[100] batch loss: 0.085\n",
      "[150] batch loss: 0.077\n",
      "[200] batch loss: 0.063\n",
      "[250] batch loss: 0.068\n",
      "[300] batch loss: 0.069\n",
      "[350] batch loss: 0.072\n",
      "[400] batch loss: 0.082\n",
      "[450] batch loss: 0.058\n",
      "epoch 2 loss: 219.442 -> 34.011\n",
      "\n",
      "[ 50] batch loss: 0.056\n",
      "[100] batch loss: 0.053\n",
      "[150] batch loss: 0.048\n",
      "[200] batch loss: 0.043\n",
      "[250] batch loss: 0.047\n",
      "[300] batch loss: 0.050\n",
      "[350] batch loss: 0.044\n",
      "[400] batch loss: 0.053\n",
      "[450] batch loss: 0.041\n",
      "epoch 3 loss: 34.011 -> 22.518\n",
      "\n",
      "[ 50] batch loss: 0.043\n",
      "[100] batch loss: 0.041\n",
      "[150] batch loss: 0.036\n",
      "[200] batch loss: 0.034\n",
      "[250] batch loss: 0.037\n",
      "[300] batch loss: 0.041\n",
      "[350] batch loss: 0.036\n",
      "[400] batch loss: 0.042\n",
      "[450] batch loss: 0.033\n",
      "epoch 4 loss: 22.518 -> 17.773\n",
      "\n",
      "[ 50] batch loss: 0.036\n",
      "[100] batch loss: 0.034\n",
      "[150] batch loss: 0.028\n",
      "[200] batch loss: 0.027\n",
      "[250] batch loss: 0.031\n",
      "[300] batch loss: 0.034\n",
      "[350] batch loss: 0.031\n",
      "[400] batch loss: 0.035\n",
      "[450] batch loss: 0.027\n",
      "epoch 5 loss: 17.773 -> 14.722\n",
      "\n",
      "[ 50] batch loss: 0.030\n",
      "[100] batch loss: 0.028\n",
      "[150] batch loss: 0.023\n",
      "[200] batch loss: 0.023\n",
      "[250] batch loss: 0.027\n",
      "[300] batch loss: 0.030\n",
      "[350] batch loss: 0.027\n",
      "[400] batch loss: 0.030\n",
      "[450] batch loss: 0.024\n",
      "epoch 6 loss: 14.722 -> 12.590\n",
      "\n",
      "[ 50] batch loss: 0.026\n",
      "[100] batch loss: 0.025\n",
      "[150] batch loss: 0.020\n",
      "[200] batch loss: 0.019\n",
      "[250] batch loss: 0.023\n",
      "[300] batch loss: 0.026\n",
      "[350] batch loss: 0.024\n",
      "[400] batch loss: 0.025\n",
      "[450] batch loss: 0.020\n",
      "epoch 7 loss: 12.590 -> 10.866\n",
      "\n",
      "[ 50] batch loss: 0.023\n",
      "[100] batch loss: 0.022\n",
      "[150] batch loss: 0.017\n",
      "[200] batch loss: 0.017\n",
      "[250] batch loss: 0.020\n",
      "[300] batch loss: 0.023\n",
      "[350] batch loss: 0.021\n",
      "[400] batch loss: 0.022\n",
      "[450] batch loss: 0.018\n",
      "epoch 8 loss: 10.866 -> 9.518\n",
      "\n",
      "[ 50] batch loss: 0.020\n",
      "[100] batch loss: 0.020\n",
      "[150] batch loss: 0.015\n",
      "[200] batch loss: 0.015\n",
      "[250] batch loss: 0.018\n",
      "[300] batch loss: 0.021\n",
      "[350] batch loss: 0.019\n",
      "[400] batch loss: 0.019\n",
      "[450] batch loss: 0.016\n",
      "epoch 9 loss: 9.518 -> 8.423\n",
      "\n",
      "[ 50] batch loss: 0.018\n",
      "[100] batch loss: 0.018\n",
      "[150] batch loss: 0.013\n",
      "[200] batch loss: 0.013\n",
      "[250] batch loss: 0.016\n",
      "[300] batch loss: 0.018\n",
      "[350] batch loss: 0.016\n",
      "[400] batch loss: 0.016\n",
      "[450] batch loss: 0.014\n",
      "epoch 10 loss: 8.423 -> 7.466\n",
      "\n",
      "[ 50] batch loss: 0.016\n",
      "[100] batch loss: 0.016\n",
      "[150] batch loss: 0.012\n",
      "[200] batch loss: 0.012\n",
      "[250] batch loss: 0.014\n",
      "[300] batch loss: 0.016\n",
      "[350] batch loss: 0.015\n",
      "[400] batch loss: 0.015\n",
      "[450] batch loss: 0.013\n",
      "epoch 11 loss: 7.466 -> 6.698\n",
      "\n",
      "[ 50] batch loss: 0.014\n",
      "[100] batch loss: 0.014\n",
      "[150] batch loss: 0.010\n",
      "[200] batch loss: 0.010\n",
      "[250] batch loss: 0.013\n",
      "[300] batch loss: 0.015\n",
      "[350] batch loss: 0.013\n",
      "[400] batch loss: 0.013\n",
      "[450] batch loss: 0.011\n",
      "epoch 12 loss: 6.698 -> 6.024\n",
      "\n",
      "[ 50] batch loss: 0.012\n",
      "[100] batch loss: 0.013\n",
      "[150] batch loss: 0.009\n",
      "[200] batch loss: 0.009\n",
      "[250] batch loss: 0.012\n",
      "[300] batch loss: 0.014\n",
      "[350] batch loss: 0.012\n",
      "[400] batch loss: 0.012\n",
      "[450] batch loss: 0.010\n",
      "epoch 13 loss: 6.024 -> 5.447\n",
      "\n",
      "[ 50] batch loss: 0.011\n",
      "[100] batch loss: 0.012\n",
      "[150] batch loss: 0.008\n",
      "[200] batch loss: 0.009\n",
      "[250] batch loss: 0.011\n",
      "[300] batch loss: 0.013\n",
      "[350] batch loss: 0.011\n",
      "[400] batch loss: 0.011\n",
      "[450] batch loss: 0.009\n",
      "epoch 14 loss: 5.447 -> 4.962\n",
      "\n",
      "[ 50] batch loss: 0.010\n",
      "[100] batch loss: 0.011\n",
      "[150] batch loss: 0.007\n",
      "[200] batch loss: 0.008\n",
      "[250] batch loss: 0.010\n",
      "[300] batch loss: 0.011\n",
      "[350] batch loss: 0.010\n",
      "[400] batch loss: 0.010\n",
      "[450] batch loss: 0.009\n",
      "epoch 15 loss: 4.962 -> 4.516\n",
      "\n",
      "[ 50] batch loss: 0.009\n",
      "[100] batch loss: 0.010\n",
      "[150] batch loss: 0.006\n",
      "[200] batch loss: 0.007\n",
      "[250] batch loss: 0.009\n",
      "[300] batch loss: 0.010\n",
      "[350] batch loss: 0.009\n",
      "[400] batch loss: 0.009\n",
      "[450] batch loss: 0.008\n",
      "epoch 16 loss: 4.516 -> 4.133\n",
      "\n",
      "[ 50] batch loss: 0.008\n",
      "[100] batch loss: 0.009\n",
      "[150] batch loss: 0.006\n",
      "[200] batch loss: 0.007\n",
      "[250] batch loss: 0.009\n",
      "[300] batch loss: 0.010\n",
      "[350] batch loss: 0.009\n",
      "[400] batch loss: 0.008\n",
      "[450] batch loss: 0.007\n",
      "epoch 17 loss: 4.133 -> 3.813\n",
      "\n",
      "[ 50] batch loss: 0.007\n",
      "[100] batch loss: 0.008\n",
      "[150] batch loss: 0.005\n",
      "[200] batch loss: 0.006\n",
      "[250] batch loss: 0.008\n",
      "[300] batch loss: 0.009\n",
      "[350] batch loss: 0.008\n",
      "[400] batch loss: 0.008\n",
      "[450] batch loss: 0.007\n",
      "epoch 18 loss: 3.813 -> 3.512\n",
      "\n",
      "[ 50] batch loss: 0.007\n",
      "[100] batch loss: 0.008\n",
      "[150] batch loss: 0.005\n",
      "[200] batch loss: 0.006\n",
      "[250] batch loss: 0.007\n",
      "[300] batch loss: 0.008\n",
      "[350] batch loss: 0.007\n",
      "[400] batch loss: 0.007\n",
      "[450] batch loss: 0.006\n",
      "epoch 19 loss: 3.512 -> 3.249\n",
      "\n",
      "[ 50] batch loss: 0.006\n",
      "[100] batch loss: 0.007\n",
      "[150] batch loss: 0.004\n",
      "[200] batch loss: 0.006\n",
      "[250] batch loss: 0.007\n",
      "[300] batch loss: 0.007\n",
      "[350] batch loss: 0.007\n",
      "[400] batch loss: 0.007\n",
      "[450] batch loss: 0.006\n",
      "epoch 20 loss: 3.249 -> 3.021\n",
      "\n",
      "[ 50] batch loss: 0.006\n",
      "[100] batch loss: 0.006\n",
      "[150] batch loss: 0.004\n",
      "[200] batch loss: 0.005\n",
      "[250] batch loss: 0.006\n",
      "[300] batch loss: 0.007\n",
      "[350] batch loss: 0.007\n",
      "[400] batch loss: 0.006\n",
      "[450] batch loss: 0.005\n",
      "epoch 21 loss: 3.021 -> 2.809\n",
      "\n",
      "[ 50] batch loss: 0.005\n",
      "[100] batch loss: 0.006\n",
      "[150] batch loss: 0.004\n",
      "[200] batch loss: 0.005\n",
      "[250] batch loss: 0.006\n",
      "[300] batch loss: 0.006\n",
      "[350] batch loss: 0.006\n",
      "[400] batch loss: 0.006\n",
      "[450] batch loss: 0.005\n",
      "epoch 22 loss: 2.809 -> 2.628\n",
      "\n",
      "[ 50] batch loss: 0.005\n",
      "[100] batch loss: 0.005\n",
      "[150] batch loss: 0.004\n",
      "[200] batch loss: 0.005\n",
      "[250] batch loss: 0.006\n",
      "[300] batch loss: 0.006\n",
      "[350] batch loss: 0.006\n",
      "[400] batch loss: 0.005\n",
      "[450] batch loss: 0.005\n",
      "epoch 23 loss: 2.628 -> 2.459\n",
      "\n",
      "[ 50] batch loss: 0.005\n",
      "[100] batch loss: 0.005\n",
      "[150] batch loss: 0.003\n",
      "[200] batch loss: 0.004\n",
      "[250] batch loss: 0.005\n",
      "[300] batch loss: 0.006\n",
      "[350] batch loss: 0.006\n",
      "[400] batch loss: 0.005\n",
      "[450] batch loss: 0.004\n",
      "epoch 24 loss: 2.459 -> 2.310\n",
      "\n",
      "[ 50] batch loss: 0.004\n",
      "[100] batch loss: 0.005\n",
      "[150] batch loss: 0.003\n",
      "[200] batch loss: 0.004\n",
      "[250] batch loss: 0.005\n",
      "[300] batch loss: 0.005\n",
      "[350] batch loss: 0.005\n",
      "[400] batch loss: 0.005\n",
      "[450] batch loss: 0.004\n",
      "epoch 25 loss: 2.310 -> 2.167\n",
      "\n",
      "[ 50] batch loss: 0.004\n",
      "[100] batch loss: 0.004\n",
      "[150] batch loss: 0.003\n",
      "[200] batch loss: 0.004\n",
      "[250] batch loss: 0.005\n",
      "[300] batch loss: 0.005\n",
      "[350] batch loss: 0.005\n",
      "[400] batch loss: 0.005\n",
      "[450] batch loss: 0.004\n",
      "epoch 26 loss: 2.167 -> 2.042\n",
      "\n",
      "[ 50] batch loss: 0.004\n",
      "[100] batch loss: 0.004\n",
      "[150] batch loss: 0.003\n",
      "[200] batch loss: 0.004\n",
      "[250] batch loss: 0.004\n",
      "[300] batch loss: 0.005\n",
      "[350] batch loss: 0.005\n",
      "[400] batch loss: 0.004\n",
      "[450] batch loss: 0.003\n",
      "epoch 27 loss: 2.042 -> 1.924\n",
      "\n",
      "[ 50] batch loss: 0.004\n",
      "[100] batch loss: 0.004\n",
      "[150] batch loss: 0.003\n",
      "[200] batch loss: 0.004\n",
      "[250] batch loss: 0.004\n",
      "[300] batch loss: 0.004\n",
      "[350] batch loss: 0.005\n",
      "[400] batch loss: 0.004\n",
      "[450] batch loss: 0.003\n",
      "epoch 28 loss: 1.924 -> 1.819\n",
      "\n",
      "[ 50] batch loss: 0.003\n",
      "[100] batch loss: 0.004\n",
      "[150] batch loss: 0.003\n",
      "[200] batch loss: 0.003\n",
      "[250] batch loss: 0.004\n",
      "[300] batch loss: 0.004\n",
      "[350] batch loss: 0.004\n",
      "[400] batch loss: 0.004\n",
      "[450] batch loss: 0.003\n",
      "epoch 29 loss: 1.819 -> 1.721\n",
      "\n"
     ]
    }
   ],
   "source": [
    "%%skip $load_model\n",
    "\n",
    "prev_loss = np.float(\"inf\")\n",
    "total_epoch = 30\n",
    "\n",
    "for epoch in range(total_epoch):\n",
    "    epoch_loss = 0.0\n",
    "    running_loss = 0.0\n",
    "    p = epoch * 1.0 / total_epoch\n",
    "    adjust_lr(optimizer, p)\n",
    "    for i, data in enumerate(trainloader):\n",
    "        inputs, labels = data\n",
    "        if (use_gpu):\n",
    "            inputs, labels = inputs.cuda(), labels.cuda()\n",
    "        inputs, labels = Variable(inputs), Variable(labels)\n",
    "        optimizer.zero_grad()\n",
    "        outputs, _, _ = cnn(inputs)\n",
    "        loss = criterion(outputs, labels)\n",
    "        loss.backward()\n",
    "        optimizer.step()\n",
    "        epoch_loss += loss.item()\n",
    "        running_loss += loss.item()\n",
    "        if i % 50 == 49:    # print every 50 mini-batches\n",
    "            print('[%3d] batch loss: %.3f' %\n",
    "                  (i + 1, running_loss / 50))\n",
    "            running_loss = 0.0\n",
    "    print(\"epoch %d loss: %.3f -> %.3f\\n\" % (epoch + 1, prev_loss, epoch_loss))\n",
    "    if prev_loss - epoch_loss < 0.1:\n",
    "        break\n",
    "    else:\n",
    "        prev_loss = epoch_loss"
   ]
  },
  {
   "cell_type": "code",
   "execution_count": 20,
   "metadata": {},
   "outputs": [],
   "source": [
    "%%skip $load_model\n",
    "\n",
    "torch.save(cnn.state_dict(), para_file)"
   ]
  },
  {
   "cell_type": "markdown",
   "metadata": {
    "colab_type": "text",
    "id": "5oBeLwnRLrcY"
   },
   "source": [
    "## Testing on MNIST"
   ]
  },
  {
   "cell_type": "code",
   "execution_count": 14,
   "metadata": {},
   "outputs": [],
   "source": [
    "def evaluate_accuracy(model, dataloader):\n",
    "    correct = 0\n",
    "    total = 0\n",
    "    for i, data in enumerate(dataloader):\n",
    "        inputs, labels = data\n",
    "        if (use_gpu):\n",
    "            inputs, labels = inputs.cuda(), labels.cuda()\n",
    "        inputs, labels = Variable(inputs), Variable(labels)\n",
    "        outputs, _, _ = model(inputs)\n",
    "        correct += (torch.max(outputs.data, 1)[1] == labels.data).sum().item()\n",
    "        total += labels.size()[0]\n",
    "    acc = correct * 1.0 / total\n",
    "    return acc"
   ]
  },
  {
   "cell_type": "code",
   "execution_count": 15,
   "metadata": {
    "colab": {
     "autoexec": {
      "startup": false,
      "wait_interval": 0
     },
     "base_uri": "https://localhost:8080/",
     "height": 35
    },
    "colab_type": "code",
    "executionInfo": {
     "elapsed": 1632,
     "status": "ok",
     "timestamp": 1523144440407,
     "user": {
      "displayName": "Yuan Qi",
      "photoUrl": "//lh6.googleusercontent.com/--bd6SE8_hDo/AAAAAAAAAAI/AAAAAAAAAE0/J27oawL5omk/s50-c-k-no/photo.jpg",
      "userId": "112219197582513023329"
     },
     "user_tz": 420
    },
    "id": "Rn4sOe0iLuKI",
    "outputId": "f31ce94e-ef18-4564-9772-a3a9b22c1272"
   },
   "outputs": [
    {
     "name": "stdout",
     "output_type": "stream",
     "text": [
      "Accuracy on MNIST test set (source only): 0.9912\n"
     ]
    }
   ],
   "source": [
    "print(\"Accuracy on MNIST test set (source only): \" + str(evaluate_accuracy(cnn, testloader)))"
   ]
  },
  {
   "cell_type": "markdown",
   "metadata": {},
   "source": [
    "# MNIST-M Dataset"
   ]
  },
  {
   "cell_type": "code",
   "execution_count": 16,
   "metadata": {},
   "outputs": [],
   "source": [
    "from my_dataset import MNIST_M"
   ]
  },
  {
   "cell_type": "code",
   "execution_count": 17,
   "metadata": {},
   "outputs": [],
   "source": [
    "batch_size = 128\n",
    "root_dir = \"./data/\"\n",
    "\n",
    "transform_m = transforms.Compose([\n",
    "    transforms.Resize((28, 28)),\n",
    "    transforms.ToTensor(),\n",
    "    #transforms.Normalize((0.4581609321206303, 0.462350402961343, 0.4084781187671726), (1, 1, 1))\n",
    "    transforms.Normalize((0.5, 0.5, 0.5), (0.5, 0.5, 0.5))\n",
    "])\n",
    "\n",
    "trainset_m = MNIST_M(root_dir, train=True, transform=transform_m, download=True)\n",
    "trainloader_m = torch.utils.data.DataLoader(trainset_m, batch_size=batch_size,\n",
    "                                          shuffle=False, num_workers=0)\n",
    "testset_m = MNIST_M(root_dir, train=False, transform=transform_m, download=True)\n",
    "testloader_m = torch.utils.data.DataLoader(testset_m, batch_size=batch_size,\n",
    "                                          shuffle=False, num_workers=0)"
   ]
  },
  {
   "cell_type": "code",
   "execution_count": 18,
   "metadata": {
    "scrolled": false
   },
   "outputs": [
    {
     "name": "stderr",
     "output_type": "stream",
     "text": [
      "Clipping input data to the valid range for imshow with RGB data ([0..1] for floats or [0..255] for integers).\n"
     ]
    },
    {
     "name": "stdout",
     "output_type": "stream",
     "text": [
      "The 66th image in the first 128 images in the training set:\n"
     ]
    },
    {
     "data": {
      "image/png": "[encoded data removed]",
      "text/plain": [
       "<Figure size 72x72 with 1 Axes>"
      ]
     },
     "metadata": {},
     "output_type": "display_data"
    },
    {
     "name": "stdout",
     "output_type": "stream",
     "text": [
      "Its correspondent label:\n",
      "tensor(1)\n"
     ]
    }
   ],
   "source": [
    "# randomly plot a sample from training set\n",
    "\n",
    "inputs = None\n",
    "labels = None\n",
    "for i, data in enumerate(trainloader_m):\n",
    "    inputs, labels = data\n",
    "    break\n",
    "    \n",
    "idx = np.random.randint(0, batch_size)\n",
    "print(\"The \" + str(idx) + \"th image in the first \" + str(batch_size) +\\\n",
    "      \" images in the training set:\")\n",
    "plt.figure(figsize=(1,1))\n",
    "plt.axis(\"off\")\n",
    "plt.imshow(inputs[idx].permute(1, 2, 0).numpy())\n",
    "plt.show()\n",
    "print(\"Its correspondent label:\\n\" + str(labels[idx]))"
   ]
  },
  {
   "cell_type": "markdown",
   "metadata": {},
   "source": [
    "## Testing on MNIST-M Dataset (trained on source only)"
   ]
  },
  {
   "cell_type": "code",
   "execution_count": 19,
   "metadata": {
    "scrolled": true
   },
   "outputs": [
    {
     "name": "stdout",
     "output_type": "stream",
     "text": [
      "Accuracy on MNIST-M test set (source only): 0.5806666666666667\n"
     ]
    }
   ],
   "source": [
    "print(\"Accuracy on MNIST-M test set (source only): \" + str(evaluate_accuracy(cnn, testloader_m)))"
   ]
  },
  {
   "cell_type": "markdown",
   "metadata": {},
   "source": [
    "## Visualization"
   ]
  },
  {
   "cell_type": "code",
   "execution_count": 36,
   "metadata": {},
   "outputs": [],
   "source": [
    "from sklearn import manifold\n",
    "\n",
    "def extract_features(model, dataloader):\n",
    "    features = None\n",
    "    lasthidden = None\n",
    "    labels = None\n",
    "    for i, data in enumerate(dataloader):\n",
    "        inputs, labels_ = data\n",
    "        if (use_gpu):\n",
    "            inputs = inputs.cuda()\n",
    "        inputs = Variable(inputs)\n",
    "        _, f, l = model(inputs)\n",
    "        if i == 0:\n",
    "            features = f\n",
    "            lasthidden = l\n",
    "            labels = labels_\n",
    "        else:\n",
    "            features = torch.cat((features, f))\n",
    "            lasthidden = torch.cat((lasthidden, l))\n",
    "            labels = torch.cat((labels, labels_))\n",
    "    features = features.data\n",
    "    lasthidden = lasthidden.data\n",
    "    if use_gpu:\n",
    "        features = features.cpu()\n",
    "        lasthidden = lasthidden.cpu()\n",
    "    return features, lasthidden, labels\n",
    "\n",
    "def visualize_single_dataset(data, labels, perplexity=50, sample_num=None):\n",
    "    total_num = labels.shape[0]\n",
    "    if sample_num:\n",
    "        idx = np.random.choice(total_num, sample_num, replace=False)\n",
    "        data, labels = data[idx, :], labels[idx]\n",
    "        total_num = sample_num\n",
    "    tsne = manifold.TSNE(n_components=2, init='random',\n",
    "                     random_state=0, perplexity=perplexity)\n",
    "    X = tsne.fit_transform(data)\n",
    "    colors = [\"red\", \"orange\", \"goldenrod\", \"yellow\", \"yellowgreen\", \"green\", \"teal\", \"blue\", \"violet\", \"purple\"]\n",
    "    for i in range(10):\n",
    "        plt.scatter(X[labels == i, 0], X[labels == i, 1], c=colors[i], alpha=0.4)\n",
    "    plt.axis(\"off\")\n",
    "    \n",
    "def visualize_da(source, target, perplexity=50, sample_num=None, save=None):\n",
    "    source_num = source.shape[0]\n",
    "    target_num = target.shape[0]\n",
    "    if sample_num:\n",
    "        source, target = source[:sample_num, :], target[:sample_num, :]\n",
    "        \n",
    "    data = np.vstack((source, target))\n",
    "\n",
    "    tsne = manifold.TSNE(n_components=2, init='random',\n",
    "                         random_state=0, perplexity=perplexity)\n",
    "    X = tsne.fit_transform(data)\n",
    "    plt.scatter(X[:sample_num, 0], X[:sample_num, 1], c=\"blue\", edgecolors=None, alpha=0.4)\n",
    "    plt.scatter(X[sample_num:, 0], X[sample_num:, 1], c=\"red\", edgecolors=None, alpha=0.4)\n",
    "    plt.axis(\"off\")\n",
    "    if save:\n",
    "        plt.savefig(save)\n",
    "    plt.show()\n",
    "    plt.clf()\n",
    "    plt.close()"
   ]
  },
  {
   "cell_type": "code",
   "execution_count": 21,
   "metadata": {},
   "outputs": [],
   "source": [
    "f, lh, l = extract_features(cnn, testloader)\n",
    "f_m, lh_m, l_m = extract_features(cnn, testloader_m)"
   ]
  },
  {
   "cell_type": "markdown",
   "metadata": {},
   "source": [
    "### Features of MNIST test set (extracted by source only model)"
   ]
  },
  {
   "cell_type": "code",
   "execution_count": 24,
   "metadata": {},
   "outputs": [
    {
     "data": {
      "image/png": "[encoded data removed]",
      "text/plain": [
       "<Figure size 432x288 with 1 Axes>"
      ]
     },
     "metadata": {},
     "output_type": "display_data"
    }
   ],
   "source": [
    "visualize_single_dataset(f.numpy(), l.numpy(), perplexity=50, sample_num=1000)"
   ]
  },
  {
   "cell_type": "markdown",
   "metadata": {},
   "source": [
    "### Features of MNIST-M test set (extracted by source only model)"
   ]
  },
  {
   "cell_type": "code",
   "execution_count": 25,
   "metadata": {
    "scrolled": true
   },
   "outputs": [
    {
     "data": {
      "image/png": "[encoded data removed]",
      "text/plain": [
       "<Figure size 432x288 with 1 Axes>"
      ]
     },
     "metadata": {},
     "output_type": "display_data"
    }
   ],
   "source": [
    "visualize_single_dataset(f_m.numpy(), l_m.numpy(), perplexity=50, sample_num=1000)"
   ]
  },
  {
   "cell_type": "markdown",
   "metadata": {},
   "source": [
    "### Last hidden layer of MNIST test set (extracted by source only model)"
   ]
  },
  {
   "cell_type": "code",
   "execution_count": 76,
   "metadata": {},
   "outputs": [
    {
     "data": {
      "image/png": "[encoded data removed]",
      "text/plain": [
       "<Figure size 432x288 with 1 Axes>"
      ]
     },
     "metadata": {},
     "output_type": "display_data"
    }
   ],
   "source": [
    "visualize_da(f.numpy(), f_m.numpy(), perplexity=50, sample_num=500,\n",
    "             save=\"./pics/MNIST_to_MNIST_M_features_NonAdapted.svg\")"
   ]
  },
  {
   "cell_type": "markdown",
   "metadata": {},
   "source": [
    "### Last hidden layer of MNIST-M test set (extracted by source only model)"
   ]
  },
  {
   "cell_type": "code",
   "execution_count": 77,
   "metadata": {},
   "outputs": [
    {
     "data": {
      "image/png": "[encoded data removed]",
      "text/plain": [
       "<Figure size 432x288 with 1 Axes>"
      ]
     },
     "metadata": {},
     "output_type": "display_data"
    }
   ],
   "source": [
    "visualize_da(lh.numpy(), lh_m.numpy(), perplexity=50, sample_num=500,\n",
    "             save=\"./pics/MNIST_to_MNIST_M_lasthidden_NonAdapted.svg\")"
   ]
  },
  {
   "cell_type": "markdown",
   "metadata": {},
   "source": [
    "## Training on MNIST-M Dataset"
   ]
  },
  {
   "cell_type": "code",
   "execution_count": 39,
   "metadata": {},
   "outputs": [
    {
     "name": "stdout",
     "output_type": "stream",
     "text": [
      "CNN(\n",
      "  (C1): Conv2d(3, 32, kernel_size=(5, 5), stride=(1, 1))\n",
      "  (C2): Conv2d(32, 48, kernel_size=(5, 5), stride=(1, 1))\n",
      "  (FC1): Linear(in_features=768, out_features=100, bias=True)\n",
      "  (FC2): Linear(in_features=100, out_features=100, bias=True)\n",
      "  (FC3): Linear(in_features=100, out_features=10, bias=True)\n",
      ")\n"
     ]
    }
   ],
   "source": [
    "cnn_m = CNN()\n",
    "if (use_gpu):\n",
    "    cnn_m.cuda()\n",
    "print(cnn_m)"
   ]
  },
  {
   "cell_type": "code",
   "execution_count": 40,
   "metadata": {},
   "outputs": [
    {
     "name": "stdout",
     "output_type": "stream",
     "text": [
      "load_model_m = True\n"
     ]
    }
   ],
   "source": [
    "para_file_m = \"./parameters/cnn_mnist_m\"\n",
    "load_model_m = os.path.isfile(para_file_m)\n",
    "print(\"load_model_m = \" + str(load_model_m))"
   ]
  },
  {
   "cell_type": "code",
   "execution_count": 41,
   "metadata": {},
   "outputs": [],
   "source": [
    "%%skip (not $load_model_m)\n",
    "cnn_m.load_state_dict(torch.load(para_file_m))"
   ]
  },
  {
   "cell_type": "code",
   "execution_count": 42,
   "metadata": {},
   "outputs": [],
   "source": [
    "import torch.optim as optim\n",
    "\n",
    "lr_init = 0.01\n",
    "criterion = nn.CrossEntropyLoss()\n",
    "optimizer = optim.SGD(cnn_m.parameters(), lr=lr_init, momentum=0.9)\n",
    "\n",
    "def adjust_lr(optimizer, p):\n",
    "    global lr_init\n",
    "    lr_0 = lr_init\n",
    "    alpha = 10\n",
    "    beta = 0.75\n",
    "    lr = lr_0 / (1 + alpha * p) ** beta\n",
    "    for param_group in optimizer.param_groups:\n",
    "        param_group['lr'] = lr"
   ]
  },
  {
   "cell_type": "code",
   "execution_count": 43,
   "metadata": {
    "scrolled": true
   },
   "outputs": [],
   "source": [
    "%%skip $load_model_m\n",
    "\n",
    "prev_loss = np.float(\"inf\")\n",
    "total_epoch = 50\n",
    "\n",
    "for epoch in range(total_epoch):\n",
    "    epoch_loss = 0.0\n",
    "    running_loss = 0.0\n",
    "    p = epoch * 1.0 / total_epoch\n",
    "    adjust_lr(optimizer, p)\n",
    "    for i, data in enumerate(trainloader_m):\n",
    "        inputs, labels = data\n",
    "        if (use_gpu):\n",
    "            inputs, labels = inputs.cuda(), labels.cuda()\n",
    "        inputs, labels = Variable(inputs), Variable(labels)\n",
    "        optimizer.zero_grad()\n",
    "        outputs = cnn_m(inputs)\n",
    "        loss = criterion(outputs, labels)\n",
    "        loss.backward()\n",
    "        optimizer.step()\n",
    "        epoch_loss += loss.item()\n",
    "        running_loss += loss.item()\n",
    "        if i % 50 == 49:    # print every 50 mini-batches\n",
    "            print('[%3d] batch loss: %.3f' %\n",
    "                  (i + 1, running_loss / 50))\n",
    "            running_loss = 0.0\n",
    "    print(\"epoch %d loss: %.3f -> %.3f\\n\" % (epoch + 1, prev_loss, epoch_loss))\n",
    "    if prev_loss - epoch_loss < 0.1:\n",
    "        prev_loss = epoch_loss\n",
    "        break\n",
    "    else:\n",
    "        prev_loss = epoch_loss"
   ]
  },
  {
   "cell_type": "code",
   "execution_count": 44,
   "metadata": {},
   "outputs": [],
   "source": [
    "%%skip $load_model_m\n",
    "\n",
    "torch.save(cnn_m.state_dict(), para_file_m)"
   ]
  },
  {
   "cell_type": "code",
   "execution_count": 45,
   "metadata": {},
   "outputs": [
    {
     "name": "stdout",
     "output_type": "stream",
     "text": [
      "Accuracy on MNIST-M test set (train on target): 0.9513333333333334\n"
     ]
    }
   ],
   "source": [
    "print(\"Accuracy on MNIST-M test set (train on target): \" + str(evaluate_accuracy(cnn_m, testloader_m)))"
   ]
  },
  {
   "cell_type": "markdown",
   "metadata": {},
   "source": [
    "# Unsupervised Domain Adaptation\n",
    "\n",
    "## Structure (GRL)\n",
    "\n",
    "![MNIST Structure](https://c1.staticflickr.com/1/978/41270649404_41480327ce_o.png)"
   ]
  },
  {
   "cell_type": "code",
   "execution_count": 46,
   "metadata": {},
   "outputs": [],
   "source": [
    "from my_dataset import ST_Dataset"
   ]
  },
  {
   "cell_type": "code",
   "execution_count": 47,
   "metadata": {},
   "outputs": [],
   "source": [
    "batch_size = 128\n",
    "\n",
    "trainset_da = ST_Dataset(trainset, trainset_m, batch_size)\n",
    "trainloader_da = torch.utils.data.DataLoader(trainset_da, batch_size=batch_size,\n",
    "                                          shuffle=False, num_workers=0)"
   ]
  },
  {
   "cell_type": "code",
   "execution_count": 48,
   "metadata": {},
   "outputs": [
    {
     "name": "stderr",
     "output_type": "stream",
     "text": [
      "Clipping input data to the valid range for imshow with RGB data ([0..1] for floats or [0..255] for integers).\n"
     ]
    },
    {
     "name": "stdout",
     "output_type": "stream",
     "text": [
      "The 51th image in the first 128 images in the training set:\n"
     ]
    },
    {
     "data": {
      "image/png": "[encoded data removed]",
      "text/plain": [
       "<Figure size 72x72 with 1 Axes>"
      ]
     },
     "metadata": {},
     "output_type": "display_data"
    },
    {
     "name": "stdout",
     "output_type": "stream",
     "text": [
      "Its correspondent label:\n",
      "3\n",
      "\n",
      "From domain:\n",
      "Source\n"
     ]
    }
   ],
   "source": [
    "# randomly plot a sample from test set\n",
    "\n",
    "inputs = None\n",
    "labels = None\n",
    "for i, data in enumerate(trainloader_da):\n",
    "    inputs, labels, domain = data\n",
    "    if i == 2:\n",
    "        break\n",
    "\n",
    "idx = np.random.randint(0, batch_size)\n",
    "print(\"The \" + str(idx) + \"th image in the first \" + str(batch_size) +\\\n",
    "      \" images in the training set:\")\n",
    "plt.figure(figsize=(1,1))\n",
    "plt.axis(\"off\")\n",
    "plt.imshow(inputs[idx].permute(1, 2, 0).numpy())\n",
    "plt.show()\n",
    "print(\"Its correspondent label:\")\n",
    "if labels[idx].item() == -1:\n",
    "    print(\"I don't know :)\\n\")\n",
    "else:\n",
    "    print(str(labels[idx].item()) + \"\\n\")\n",
    "\n",
    "print(\"From domain:\")\n",
    "if domain[idx].item() == 0:\n",
    "    print(\"Source\")\n",
    "else:\n",
    "    print(\"Target\")"
   ]
  },
  {
   "cell_type": "code",
   "execution_count": 49,
   "metadata": {},
   "outputs": [],
   "source": [
    "class GRL_func(torch.autograd.Function):\n",
    "\n",
    "    @staticmethod\n",
    "    def forward(ctx, inputs, lamda):\n",
    "        ctx.save_for_backward(lamda)\n",
    "        return inputs\n",
    "\n",
    "    @staticmethod\n",
    "    def backward(ctx, grad_outputs):\n",
    "        lamda, = ctx.saved_tensors\n",
    "        return -lamda * grad_outputs, None"
   ]
  },
  {
   "cell_type": "code",
   "execution_count": 50,
   "metadata": {},
   "outputs": [],
   "source": [
    "class GRL(nn.Module):\n",
    "    \n",
    "    def __init__(self, lamda_init):\n",
    "        super(GRL, self).__init__()\n",
    "        self.GRL_func = GRL_func.apply\n",
    "        self.lamda = nn.Parameter(torch.Tensor(1), requires_grad=False)\n",
    "        self.set_lamda(lamda_init)\n",
    "        \n",
    "    def forward(self, x):\n",
    "        return self.GRL_func(x, self.lamda)\n",
    "    \n",
    "    def set_lamda(self, lamda_new):\n",
    "        self.lamda[0] = lamda_new"
   ]
  },
  {
   "cell_type": "code",
   "execution_count": 51,
   "metadata": {},
   "outputs": [],
   "source": [
    "class CNN_DA(nn.Module):\n",
    "    \n",
    "    def __init__(self, lamda_init=0):\n",
    "        super(CNN_DA, self).__init__()\n",
    "        # lamda\n",
    "        self.lamda = lamda_init\n",
    "        # feature extractor\n",
    "        self.C1 = nn.Conv2d(3, 32, 5)\n",
    "        self.C2 = nn.Conv2d(32, 48, 5)\n",
    "        # label classifier\n",
    "        self.LC_FC1 = nn.Linear(48 * 4 * 4, 100)\n",
    "        self.LC_FC2 = nn.Linear(100, 100)\n",
    "        self.LC_FC3 = nn.Linear(100, 10)\n",
    "        # domain classifier\n",
    "        self.GRL_layer = GRL(lamda_init)\n",
    "        self.DC_FC1 = nn.Linear(48 * 4 * 4, 100)\n",
    "        self.DC_FC2 = nn.Linear(100, 1)\n",
    "        \n",
    "    def forward(self, x):\n",
    "        # C1\n",
    "        x = F.relu(self.C1(x))\n",
    "        # M1\n",
    "        x = F.max_pool2d(x, (2, 2))\n",
    "        # C2\n",
    "        x = F.relu(self.C2(x))\n",
    "        # M2\n",
    "        x = F.max_pool2d(x, (2, 2))\n",
    "        # x's size is (128, 48, 4, 4)\n",
    "        # flatten\n",
    "        x = x.view(-1, 48 * 4 * 4)\n",
    "        f = x\n",
    "        # label classifier\n",
    "        # LC_FC1\n",
    "        x_l = F.relu(self.LC_FC1(x))\n",
    "        # LC_FC2\n",
    "        x_l = F.relu(self.LC_FC2(x_l))\n",
    "        lh = x_l\n",
    "        # LC_FC3\n",
    "        x_l = self.LC_FC3(x_l)\n",
    "        # domain classifier\n",
    "        # GRL\n",
    "        x_d = self.GRL_layer(x)\n",
    "        # DC_FC1\n",
    "        x_d = F.relu(self.DC_FC1(x_d))\n",
    "        # DC_FC2\n",
    "        x_d = F.sigmoid(self.DC_FC2(x_d))\n",
    "        return x_l, x_d, f, lh\n",
    "    \n",
    "    def set_lamda(self, lamda_new):\n",
    "        self.GRL_layer.set_lamda(lamda_new)"
   ]
  },
  {
   "cell_type": "code",
   "execution_count": 52,
   "metadata": {},
   "outputs": [],
   "source": [
    "def extract_features_da(model, dataloader):\n",
    "    features = None\n",
    "    lasthidden = None\n",
    "    labels = None\n",
    "    for i, data in enumerate(dataloader):\n",
    "        inputs, labels_ = data\n",
    "        if (use_gpu):\n",
    "            inputs = inputs.cuda()\n",
    "        inputs = Variable(inputs)\n",
    "        _, _, f, l = model(inputs)\n",
    "        if i == 0:\n",
    "            features = f\n",
    "            lasthidden = l\n",
    "            labels = labels_\n",
    "        else:\n",
    "            features = torch.cat((features, f))\n",
    "            lasthidden = torch.cat((lasthidden, l))\n",
    "            labels = torch.cat((labels, labels_))\n",
    "    features = features.data\n",
    "    lasthidden = lasthidden.data\n",
    "    if use_gpu:\n",
    "        features = features.cpu()\n",
    "        lasthidden = lasthidden.cpu()\n",
    "    return features, lasthidden, labels"
   ]
  },
  {
   "cell_type": "code",
   "execution_count": 53,
   "metadata": {},
   "outputs": [
    {
     "name": "stdout",
     "output_type": "stream",
     "text": [
      "CNN_DA(\n",
      "  (C1): Conv2d(3, 32, kernel_size=(5, 5), stride=(1, 1))\n",
      "  (C2): Conv2d(32, 48, kernel_size=(5, 5), stride=(1, 1))\n",
      "  (LC_FC1): Linear(in_features=768, out_features=100, bias=True)\n",
      "  (LC_FC2): Linear(in_features=100, out_features=100, bias=True)\n",
      "  (LC_FC3): Linear(in_features=100, out_features=10, bias=True)\n",
      "  (GRL_layer): GRL()\n",
      "  (DC_FC1): Linear(in_features=768, out_features=100, bias=True)\n",
      "  (DC_FC2): Linear(in_features=100, out_features=1, bias=True)\n",
      ")\n"
     ]
    }
   ],
   "source": [
    "cnn_da = CNN_DA(0)\n",
    "if (use_gpu):\n",
    "    cnn_da.cuda()\n",
    "print(cnn_da)"
   ]
  },
  {
   "cell_type": "code",
   "execution_count": 54,
   "metadata": {},
   "outputs": [
    {
     "name": "stdout",
     "output_type": "stream",
     "text": [
      "load_model_da = True\n"
     ]
    }
   ],
   "source": [
    "para_file_da = \"./parameters/cnn_mnist_to_mnist_m\"\n",
    "load_model_da = os.path.isfile(para_file_da)\n",
    "print(\"load_model_da = \" + str(load_model_da))"
   ]
  },
  {
   "cell_type": "code",
   "execution_count": 55,
   "metadata": {},
   "outputs": [],
   "source": [
    "%%skip (not $load_model_da)\n",
    "cnn_da.load_state_dict(torch.load(para_file_da))"
   ]
  },
  {
   "cell_type": "markdown",
   "metadata": {},
   "source": [
    "### Optimizer"
   ]
  },
  {
   "cell_type": "code",
   "execution_count": 56,
   "metadata": {},
   "outputs": [],
   "source": [
    "from math import exp\n",
    "\n",
    "lr_init = 0.01\n",
    "criterion_LC = nn.CrossEntropyLoss()\n",
    "criterion_DC = nn.BCELoss()\n",
    "optimizer = optim.SGD(filter(lambda p: p.requires_grad, cnn_da.parameters()), lr=lr_init, momentum=0.9)\n",
    "\n",
    "def adjust_lr(optimizer, p):\n",
    "    global lr_init\n",
    "    lr_0 = lr_init\n",
    "    alpha = 10\n",
    "    beta = 0.75\n",
    "    lr = lr_0 / (1 + alpha * p) ** beta\n",
    "    for param_group in optimizer.param_groups:\n",
    "        param_group['lr'] = lr\n",
    "    return lr\n",
    "        \n",
    "def adjust_lamda(model, p):\n",
    "    gamma = 10\n",
    "    lamda = 2 / (1 + exp(- gamma * p)) - 1\n",
    "    model.set_lamda(lamda)\n",
    "    return lamda"
   ]
  },
  {
   "cell_type": "markdown",
   "metadata": {},
   "source": [
    "### Training process"
   ]
  },
  {
   "cell_type": "code",
   "execution_count": 57,
   "metadata": {
    "scrolled": true
   },
   "outputs": [],
   "source": [
    "%%skip $load_model_da\n",
    "\n",
    "prev_loss = np.float(\"inf\")\n",
    "total_epoch = 50\n",
    "\n",
    "for epoch in range(total_epoch):\n",
    "    epoch_loss = 0.0\n",
    "    running_loss = 0.0\n",
    "    p = epoch * 1.0 / total_epoch\n",
    "    adjust_lr(optimizer, p)\n",
    "    lamda = adjust_lamda(cnn_da, p)\n",
    "    for i, data in enumerate(trainloader_da):\n",
    "        # get inputs\n",
    "        source_size = data[0].size()[0] // 2\n",
    "        inputs, labels, domains = data\n",
    "        domains = domains.to(torch.float32)\n",
    "        if (use_gpu):\n",
    "            inputs, labels, domains = inputs.cuda(), labels.cuda(), domains.cuda()\n",
    "        inputs, labels, domains = Variable(inputs), Variable(labels), Variable(domains)\n",
    "        optimizer.zero_grad()\n",
    "        # forward\n",
    "        outputs_LC, outputs_DC, f, l = cnn_da(inputs)\n",
    "        # compute loss\n",
    "        outputs_DC = outputs_DC.view(-1)\n",
    "        loss_LC = criterion_LC(outputs_LC[:source_size], labels[:source_size])\n",
    "        loss_DC = criterion_DC(outputs_DC, domains)\n",
    "        loss = loss_LC + loss_DC\n",
    "        # backward\n",
    "        loss.backward()\n",
    "        optimizer.step()\n",
    "        # stat\n",
    "        epoch_loss += loss.item()\n",
    "        running_loss += loss.item()\n",
    "        if i % 50 == 49:    # print every 50 mini-batches\n",
    "            print('[%3d] batch loss: %.3f' %\n",
    "                  (i + 1, running_loss / 50))\n",
    "            running_loss = 0.0\n",
    "#     f_da, lh_da, _ = extract_features_da(cnn_da, testloader)\n",
    "#     f_m_da, lh_m_da, _ = extract_features_da(cnn_da, testloader_m)\n",
    "#     visualize_da(f_da.numpy(), f_m_da.numpy(), perplexity=30, sample_num=200,\n",
    "#                  save=\"./pics/f_\" + str(epoch + 1) + \".svg\")\n",
    "#     visualize_da(lh_da.numpy(), lh_m_da.numpy(), perplexity=30, sample_num=200,\n",
    "#                  save=\"./pics/lh_\" + str(epoch + 1) + \".svg\")\n",
    "    print(\"epoch %d loss: %.3f -> %.3f\\n\" % (epoch + 1, prev_loss, epoch_loss))\n",
    "    if prev_loss - epoch_loss < 0.1:\n",
    "        prev_loss = epoch_loss\n",
    "        pass\n",
    "    else:\n",
    "        prev_loss = epoch_loss"
   ]
  },
  {
   "cell_type": "code",
   "execution_count": 58,
   "metadata": {},
   "outputs": [],
   "source": [
    "%%skip $load_model_da\n",
    "\n",
    "torch.save(cnn_da.state_dict(), para_file_da)"
   ]
  },
  {
   "cell_type": "markdown",
   "metadata": {},
   "source": [
    "### Test on MNIST and MNIST-M dataset"
   ]
  },
  {
   "cell_type": "code",
   "execution_count": 59,
   "metadata": {},
   "outputs": [],
   "source": [
    "def evaluate_da_accuracy(model, dataloader, source):\n",
    "    correct_LC = 0\n",
    "    correct_DC = 0\n",
    "    total = 0\n",
    "    for i, data in enumerate(dataloader):\n",
    "        inputs, labels = data\n",
    "        if (use_gpu):\n",
    "            inputs, labels = inputs.cuda(), labels.cuda()\n",
    "        inputs, labels = Variable(inputs), Variable(labels)\n",
    "        outputs_LC, outputs_DC, _, _ = model(inputs)\n",
    "        correct_LC += (torch.max(outputs_LC.data, 1)[1] == labels.data).sum().item()\n",
    "        if source:\n",
    "            correct_DC += labels.size()[0] - outputs_DC.data.sum().item()\n",
    "        else:\n",
    "            correct_DC += outputs_DC.data.sum().item()\n",
    "        total += labels.size()[0]\n",
    "    acc_LC = correct_LC / total\n",
    "    acc_DC = correct_DC / total\n",
    "    return acc_LC, acc_DC"
   ]
  },
  {
   "cell_type": "code",
   "execution_count": 65,
   "metadata": {},
   "outputs": [
    {
     "name": "stdout",
     "output_type": "stream",
     "text": [
      "Label classifier accuracy on MNIST test set (DA): 0.982700\n",
      "Domain classifier accuracy on MNIST test set (DA): 0.523538\n"
     ]
    }
   ],
   "source": [
    "print((\"Label classifier accuracy on MNIST test set (DA): %f\\n\"\n",
    "       \"Domain classifier accuracy on MNIST test set (DA): %f\")\n",
    "      %evaluate_da_accuracy(cnn_da, testloader, source=True))"
   ]
  },
  {
   "cell_type": "code",
   "execution_count": 66,
   "metadata": {},
   "outputs": [
    {
     "name": "stdout",
     "output_type": "stream",
     "text": [
      "Label classifier accuracy on MNIST-M test set (DA): 0.813889\n",
      "Domain classifier accuracy on MNIST-M test set (DA): 0.388789\n"
     ]
    }
   ],
   "source": [
    "print((\"Label classifier accuracy on MNIST-M test set (DA): %f\\n\"\n",
    "       \"Domain classifier accuracy on MNIST-M test set (DA): %f\")\n",
    "      %evaluate_da_accuracy(cnn_da, testloader_m, source=True))"
   ]
  },
  {
   "cell_type": "markdown",
   "metadata": {},
   "source": [
    "### Visualization"
   ]
  },
  {
   "cell_type": "code",
   "execution_count": 70,
   "metadata": {},
   "outputs": [],
   "source": [
    "f_da, lh_da, l_da = extract_features_da(cnn_da, testloader)\n",
    "f_m_da, lh_m_da, l_m_da = extract_features_da(cnn_da, testloader_m)"
   ]
  },
  {
   "cell_type": "markdown",
   "metadata": {},
   "source": [
    "Features of MNIST test set (extracted by DA model)"
   ]
  },
  {
   "cell_type": "code",
   "execution_count": 74,
   "metadata": {},
   "outputs": [
    {
     "data": {
      "image/png": "[encoded data removed]",
      "text/plain": [
       "<Figure size 432x288 with 1 Axes>"
      ]
     },
     "metadata": {},
     "output_type": "display_data"
    }
   ],
   "source": [
    "visualize_da(f_da.numpy(), f_m_da.numpy(), perplexity=50, sample_num=500,\n",
    "             save=\"./pics/MNIST_to_MNIST_M_features_Adapted.svg\")"
   ]
  },
  {
   "cell_type": "markdown",
   "metadata": {},
   "source": [
    "Features of MNIST-M test set (extracted by DA model)"
   ]
  },
  {
   "cell_type": "code",
   "execution_count": 75,
   "metadata": {
    "scrolled": true
   },
   "outputs": [
    {
     "data": {
      "image/png": "[encoded data removed]",
      "text/plain": [
       "<Figure size 432x288 with 1 Axes>"
      ]
     },
     "metadata": {},
     "output_type": "display_data"
    }
   ],
   "source": [
    "visualize_da(lh_da.numpy(), lh_m_da.numpy(), perplexity=50, sample_num=500,\n",
    "             save=\"./pics/MNIST_to_MNIST_M_lasthidden_Adapted.svg\")"
   ]
  }
 ],
 "metadata": {
  "accelerator": "GPU",
  "colab": {
   "collapsed_sections": [],
   "default_view": {},
   "name": "My_CNN_Tutorial.ipynb",
   "provenance": [],
   "version": "0.3.2",
   "views": {}
  },
  "kernelspec": {
   "display_name": "Python 3",
   "language": "python",
   "name": "python3"
  },
  "language_info": {
   "codemirror_mode": {
    "name": "ipython",
    "version": 3
   },
   "file_extension": ".py",
   "mimetype": "text/x-python",
   "name": "python",
   "nbconvert_exporter": "python",
   "pygments_lexer": "ipython3",
   "version": "3.6.4"
  }
 },
 "nbformat": 4,
 "nbformat_minor": 1
}
